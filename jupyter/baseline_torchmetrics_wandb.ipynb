{
 "cells": [
  {
   "cell_type": "code",
   "execution_count": 1,
   "source": [
    "import csv\n",
    "import glob\n",
    "import pandas as pd\n",
    "import numpy as np\n",
    "import PIL\n",
    "import cv2\n",
    "\n",
    "import torch\n",
    "import torch.nn as nn\n",
    "import torch.nn.functional as F\n",
    "from torch.utils.data import Dataset\n",
    "from torch.utils.data.dataloader import DataLoader\n",
    "import torchmetrics\n",
    "\n",
    "import timm\n",
    "import albumentations as A\n",
    "from albumentations.pytorch import ToTensorV2\n",
    "from sklearn.model_selection import train_test_split\n",
    "from tqdm import tqdm\n",
    "import copy\n",
    "import os\n",
    "import wandb\n",
    "import time"
   ],
   "outputs": [],
   "metadata": {}
  },
  {
   "cell_type": "markdown",
   "source": [
    "# 1. 데이터 로드"
   ],
   "metadata": {}
  },
  {
   "cell_type": "code",
   "execution_count": 2,
   "source": [
    "train_dir = '../../input/data/train'\n",
    "test_dir = '../../input/data/eval'\n",
    "save_dir = '../saved/models/'"
   ],
   "outputs": [],
   "metadata": {}
  },
  {
   "cell_type": "markdown",
   "source": [
    "### 하이퍼파라미터"
   ],
   "metadata": {}
  },
  {
   "cell_type": "code",
   "execution_count": 3,
   "source": [
    "model_name = 'efficientnet_b0'\n",
    "#model_name = 'vit_base_patch16_384'\n",
    "learning_rate = 1e-4\n",
    "batch_size = 8\n",
    "step_size = 5\n",
    "epochs = 30\n",
    "earlystop = 5\n",
    "\n",
    "A_transform = {\n",
    "    'train':\n",
    "        A.Compose([\n",
    "            # A.Resize(512, 512),\n",
    "            # A.RandomCrop(384, 384),\n",
    "            A.Resize(224, 224),\n",
    "            A.HorizontalFlip(p=0.5),\n",
    "            A.Cutout(num_holes=8, max_h_size=32,max_w_size=32),\n",
    "            A.ElasticTransform(),\n",
    "            A.Normalize(mean=[0.485, 0.456, 0.406], std=[0.229, 0.224, 0.225]),\n",
    "            ToTensorV2()\n",
    "        ]),\n",
    "    'valid':\n",
    "        A.Compose([\n",
    "            # A.Resize(384, 384),\n",
    "            A.Resize(224, 224),\n",
    "\n",
    "            A.Normalize(mean=[0.485, 0.456, 0.406], std=[0.229, 0.224, 0.225]),\n",
    "            ToTensorV2()\n",
    "        ]),\n",
    "    'test':\n",
    "        A.Compose([\n",
    "            # A.Resize(384, 384),\n",
    "            A.Resize(224, 224),\n",
    "            A.Normalize(mean=[0.485, 0.456, 0.406], std=[0.229, 0.224, 0.225]),\n",
    "            ToTensorV2()\n",
    "        ])\n",
    "}"
   ],
   "outputs": [
    {
     "output_type": "stream",
     "name": "stderr",
     "text": [
      "/opt/conda/lib/python3.8/site-packages/albumentations/augmentations/transforms.py:688: FutureWarning: This class has been deprecated. Please use CoarseDropout\n",
      "  warnings.warn(\n"
     ]
    }
   ],
   "metadata": {}
  },
  {
   "cell_type": "code",
   "execution_count": 4,
   "source": [
    "class LoadCSV():\n",
    "    def __init__(self, dir):\n",
    "        self.dir = dir\n",
    "        self.img_dir =train_dir + '/new_images/'\n",
    "        self.origin_csv_path = train_dir + '/train.csv'\n",
    "        self.trans_csv_path = train_dir + '/trans_train.csv'\n",
    "        \n",
    "        if not os.path.exists(self.trans_csv_path):\n",
    "            self._makeCSV()\n",
    "        self.df = pd.read_csv(self.trans_csv_path)\n",
    "        self.df = self.df[:200]\n",
    "    def _makeCSV(self):        \n",
    "        with open(self.trans_csv_path, 'w', newline='') as f:\n",
    "            writer = csv.writer(f)\n",
    "            writer.writerow([\"path\", \"label\"])\n",
    "\n",
    "            df = pd.read_csv(self.origin_csv_path)\n",
    "            for idx in range(len(df)):\n",
    "                data = df.iloc[idx]\n",
    "                img_path_base = os.path.join(os.path.join(self.img_dir, data['path']), '*')\n",
    "                for img_path in glob.glob(img_path_base):\n",
    "                    label = 0\n",
    "                    if \"incorrect\" in img_path:\n",
    "                        label+=6\n",
    "                    elif 'normal' in img_path:\n",
    "                        label+=12\n",
    "                    elif data['gender']=='female':\n",
    "                        label+=3\n",
    "                    elif data['age'] >= 30 and data['age'] < 60:\n",
    "                        label+=1\n",
    "                    elif data['age'] >= 60:\n",
    "                        label+=2\n",
    "                    writer.writerow([img_path, label])\n",
    "        f.close()\n",
    "\n",
    "class MaskDataset(Dataset):\n",
    "    def __init__(self, dataframe, transform=None):\n",
    "        super().__init__()\n",
    "        self.df = dataframe\n",
    "        self.transform = transform\n",
    "\n",
    "    def __len__(self):\n",
    "        return len(self.df)\n",
    "\n",
    "    def __getitem__(self, idx):\n",
    "        class_id = torch.tensor(self.df['label'].iloc[idx])\n",
    "        img = PIL.Image.open(self.df['path'].iloc[idx])\n",
    "        img = np.array(img.convert(\"RGB\"))\n",
    "        if self.transform:\n",
    "            img = self.transform(image=img)['image']\n",
    "        return img, class_id"
   ],
   "outputs": [],
   "metadata": {}
  },
  {
   "cell_type": "markdown",
   "source": [
    "# 2. 모델 설계\n"
   ],
   "metadata": {}
  },
  {
   "cell_type": "code",
   "execution_count": 5,
   "source": [
    "class MyModel(nn.Module):\n",
    "    def __init__(self, model_name, num_classes):\n",
    "        super(MyModel, self).__init__()\n",
    "        self.num_classes = num_classes\n",
    "        self.model = timm.create_model(model_name, pretrained=True)\n",
    "\n",
    "        n_features = self.model.classifier.in_features\n",
    "        self.model.classifier = torch.nn.Linear(in_features=n_features, out_features=num_classes, bias=True)\n",
    "        torch.nn.init.xavier_uniform_(self.model.classifier.weight)\n",
    "        stdv = 1/np.sqrt(self.num_classes)\n",
    "        self.model.classifier.bias.data.uniform_(-stdv, stdv)\n",
    "\n",
    "        # n_features = self.model.head.in_features\n",
    "        # self.model.head = torch.nn.Linear(in_features=n_features, out_features=self.num_classes, bias=True)\n",
    "        # torch.nn.init.xavier_uniform_(self.model.head.weight)\n",
    "        # stdv = 1/np.sqrt(self.num_classes)\n",
    "        # self.model.head.bias.data.uniform_(-stdv, stdv)\n",
    "        \n",
    "    def forward(self, x):\n",
    "        return self.model(x)"
   ],
   "outputs": [],
   "metadata": {}
  },
  {
   "cell_type": "code",
   "execution_count": 6,
   "source": [
    "mask_csv = LoadCSV(train_dir)\n",
    "df_train, df_val = train_test_split(mask_csv.df, random_state=42, stratify=mask_csv.df.to_numpy()[:,-1])\n",
    "mask_train = MaskDataset(df_train,  transform=A_transform['train'])\n",
    "mask_valid = MaskDataset(df_val,  transform=A_transform['valid'])\n",
    "\n",
    "train_loader = DataLoader(mask_train, batch_size=batch_size, drop_last=False, num_workers=8, pin_memory=True)\n",
    "valid_loader = DataLoader(mask_valid, batch_size=batch_size, drop_last=False, num_workers=8, pin_memory=True)\n",
    "dataloaders = {'train': train_loader, 'valid':valid_loader}"
   ],
   "outputs": [],
   "metadata": {}
  },
  {
   "cell_type": "code",
   "execution_count": 7,
   "source": [
    "device = torch.device('cuda' if torch.cuda.is_available() else 'cpu')\n",
    "model = MyModel(model_name, 18).to(device)\n",
    "criterion = nn.CrossEntropyLoss()\n",
    "optimizer = torch.optim.Adam(model.parameters(), learning_rate)\n",
    "lr_scheduler = torch.optim.lr_scheduler.CosineAnnealingLR(optimizer, T_max=50, eta_min=0)"
   ],
   "outputs": [],
   "metadata": {}
  },
  {
   "cell_type": "markdown",
   "source": [
    "# 3. 학습"
   ],
   "metadata": {}
  },
  {
   "cell_type": "code",
   "execution_count": 8,
   "source": [
    "today = time.strftime('%Y%m%d_%H%M%S', time.localtime(time.time()))\n",
    "if not os.path.exists(save_dir + today):\n",
    "    os.makedirs(save_dir + today)\n",
    "\n",
    "import wandb\n",
    "wandb.login()\n",
    "\n",
    "wandb.init(project=model_name, entity='nudago')\n",
    "wandb_config = wandb.config\n",
    "wandb_config.learning_rate = learning_rate\n",
    "wandb_config.batch_size = batch_size\n",
    "wandb_config.step_size = step_size\n",
    "wandb_config.epochs = epochs\n",
    "# wandb.log({\"loss:\" loss.item()}, step=example_ct)\n"
   ],
   "outputs": [
    {
     "output_type": "stream",
     "name": "stderr",
     "text": [
      "Failed to detect the name of this notebook, you can set it manually with the WANDB_NOTEBOOK_NAME environment variable to enable code saving.\n",
      "\u001b[34m\u001b[1mwandb\u001b[0m: Currently logged in as: \u001b[33mnudago\u001b[0m (use `wandb login --relogin` to force relogin)\n"
     ]
    },
    {
     "output_type": "display_data",
     "data": {
      "text/plain": [
       "<IPython.core.display.HTML object>"
      ],
      "text/html": [
       "\n",
       "                Tracking run with wandb version 0.12.1<br/>\n",
       "                Syncing run <strong style=\"color:#cdcd00\">robust-cloud-7</strong> to <a href=\"https://wandb.ai\" target=\"_blank\">Weights & Biases</a> <a href=\"https://docs.wandb.com/integrations/jupyter.html\" target=\"_blank\">(Documentation)</a>.<br/>\n",
       "                Project page: <a href=\"https://wandb.ai/nudago/efficientnet_b0\" target=\"_blank\">https://wandb.ai/nudago/efficientnet_b0</a><br/>\n",
       "                Run page: <a href=\"https://wandb.ai/nudago/efficientnet_b0/runs/3n1via13\" target=\"_blank\">https://wandb.ai/nudago/efficientnet_b0/runs/3n1via13</a><br/>\n",
       "                Run data is saved locally in <code>/opt/ml/image-classification-level1-04/jupyter/wandb/run-20210901_044710-3n1via13</code><br/><br/>\n",
       "            "
      ]
     },
     "metadata": {}
    }
   ],
   "metadata": {}
  },
  {
   "cell_type": "code",
   "execution_count": 9,
   "source": [
    "from torchmetrics.functional import f1\n",
    "calc_train_acc = torchmetrics.Accuracy()\n",
    "calc_train_f1 = torchmetrics.F1(num_classes=18)\n",
    "calc_train_loss = torchmetrics"
   ],
   "outputs": [],
   "metadata": {}
  },
  {
   "cell_type": "code",
   "execution_count": 10,
   "source": [
    "earlystop_value = 0\n",
    "best_model = copy.deepcopy(model.state_dict())\n",
    "best_acc = 0\n",
    "best_loss = 999999999\n",
    "\n",
    "wandb.watch(model, criterion, log='all')\n",
    "#example_ct = 0\n",
    "for epoch in range(epochs):\n",
    "    if earlystop_value >= earlystop:\n",
    "        break\n",
    "    train_loss, valid_loss, train_acc_list, valid_acc_list = 0, 0, [],[]\n",
    "    \n",
    "    for phase in ['train', 'valid']:\n",
    "        if phase == 'train':\n",
    "            model.train()\n",
    "        else:\n",
    "            model.eval()\n",
    "            \n",
    "        running_loss = 0.0\n",
    "        running_corrects = 0\n",
    "        with tqdm(dataloaders[phase], total=dataloaders[phase].__len__(), unit=\"batch\") as train_bar:\n",
    "            for batch_idx, (inputs, labels) in enumerate(train_bar):\n",
    "                if phase == 'train':\n",
    "                    example_ct = epoch * (len(dataloaders['train'])) + batch_idx\n",
    "                train_bar.set_description(f\"{phase} Epoch {epoch} \")\n",
    "                inputs, labels = inputs.to(device), labels.to(device)\n",
    "\n",
    "                optimizer.zero_grad()\n",
    "                outputs = model(inputs)\n",
    "                loss = criterion(outputs, labels)\n",
    "                \n",
    "                if phase == 'train':\n",
    "                    loss.backward()\n",
    "                    optimizer.step()\n",
    "\n",
    "                outputs = outputs.cpu().detach()#.numpy()\n",
    "                labels = labels.cpu().detach()#.numpy()\n",
    "                running_loss += loss.item() * inputs.size(0)\n",
    "                epoch_loss = running_loss / len(dataloaders[phase].dataset)\n",
    "                train_acc = calc_train_acc(outputs.argmax(1), labels)\n",
    "                train_f1 = calc_train_f1(outputs.argmax(1), labels)\n",
    "                \n",
    "                train_bar.set_postfix(loss=epoch_loss, acc=train_acc, f1=train_f1)\n",
    "                if phase == 'train':\n",
    "                    wandb.log({'train_loss':loss.item(),  'train_acc':train_acc}, step=example_ct)\n",
    "\n",
    "        lr_scheduler.step()\n",
    "        if phase=='valid':\n",
    "            wandb.log({'valid_loss':loss.item(),  'valid_acc':train_acc}, step=example_ct)\n",
    "            #print(epoch_loss, best_loss)\n",
    "            if epoch_loss < best_loss:\n",
    "                best_loss = epoch_loss\n",
    "                best_model_wts = copy.deepcopy(model.state_dict())\n",
    "                torch.save(best_model_wts, f'{save_dir}{today}/baseline_{model_name}_lr{learning_rate}_stepLR{step_size}_batch{batch_size}_epoch{epoch}_valid_loss_{epoch_loss:.5f}.pt')\n",
    "                earlystop_value = 0\n",
    "            else:\n",
    "                earlystop_value += 1\n",
    "    \n",
    "model.load_state_dict(best_model_wts)"
   ],
   "outputs": [
    {
     "output_type": "stream",
     "name": "stderr",
     "text": [
      "train Epoch 0 : 100%|██████████| 19/19 [00:04<00:00,  4.71batch/s, acc=tensor(0.5000), f1=tensor(0.5000), loss=2.46]\n",
      "valid Epoch 0 : 100%|██████████| 7/7 [00:00<00:00,  9.05batch/s, acc=tensor(0.), f1=tensor(0.), loss=2.1]\n",
      "train Epoch 1 : 100%|██████████| 19/19 [00:02<00:00,  6.96batch/s, acc=tensor(0.5000), f1=tensor(0.5000), loss=1.46]\n",
      "valid Epoch 1 : 100%|██████████| 7/7 [00:00<00:00,  9.70batch/s, acc=tensor(0.5000), f1=tensor(0.5000), loss=0.894]\n",
      "train Epoch 2 : 100%|██████████| 19/19 [00:03<00:00,  6.06batch/s, acc=tensor(0.8333), f1=tensor(0.8333), loss=0.89]\n",
      "valid Epoch 2 : 100%|██████████| 7/7 [00:00<00:00,  9.35batch/s, acc=tensor(0.5000), f1=tensor(0.5000), loss=0.523]\n",
      "train Epoch 3 : 100%|██████████| 19/19 [00:02<00:00,  6.54batch/s, acc=tensor(1.), f1=tensor(1.), loss=0.546]\n",
      "valid Epoch 3 : 100%|██████████| 7/7 [00:00<00:00,  9.55batch/s, acc=tensor(1.), f1=tensor(1.), loss=0.371]\n",
      "train Epoch 4 : 100%|██████████| 19/19 [00:02<00:00,  6.46batch/s, acc=tensor(0.8333), f1=tensor(0.8333), loss=0.387]\n",
      "valid Epoch 4 : 100%|██████████| 7/7 [00:00<00:00, 10.34batch/s, acc=tensor(1.), f1=tensor(1.), loss=0.25]\n",
      "train Epoch 5 : 100%|██████████| 19/19 [00:02<00:00,  6.61batch/s, acc=tensor(1.), f1=tensor(1.), loss=0.323]\n",
      "valid Epoch 5 : 100%|██████████| 7/7 [00:00<00:00,  9.32batch/s, acc=tensor(1.), f1=tensor(1.), loss=0.19]\n",
      "train Epoch 6 : 100%|██████████| 19/19 [00:02<00:00,  7.40batch/s, acc=tensor(0.8333), f1=tensor(0.8333), loss=0.278]\n",
      "valid Epoch 6 : 100%|██████████| 7/7 [00:00<00:00, 10.17batch/s, acc=tensor(1.), f1=tensor(1.), loss=0.205]\n",
      "train Epoch 7 : 100%|██████████| 19/19 [00:02<00:00,  7.41batch/s, acc=tensor(0.8333), f1=tensor(0.8333), loss=0.19]\n",
      "valid Epoch 7 : 100%|██████████| 7/7 [00:00<00:00,  9.71batch/s, acc=tensor(0.5000), f1=tensor(0.5000), loss=0.193]\n",
      "train Epoch 8 : 100%|██████████| 19/19 [00:02<00:00,  7.64batch/s, acc=tensor(1.), f1=tensor(1.), loss=0.177]\n",
      "valid Epoch 8 : 100%|██████████| 7/7 [00:00<00:00,  9.80batch/s, acc=tensor(1.), f1=tensor(1.), loss=0.175]\n",
      "train Epoch 9 : 100%|██████████| 19/19 [00:02<00:00,  7.30batch/s, acc=tensor(1.), f1=tensor(1.), loss=0.13]\n",
      "valid Epoch 9 : 100%|██████████| 7/7 [00:01<00:00,  4.96batch/s, acc=tensor(1.), f1=tensor(1.), loss=0.131]\n",
      "train Epoch 10 : 100%|██████████| 19/19 [00:04<00:00,  4.30batch/s, acc=tensor(1.), f1=tensor(1.), loss=0.153]\n",
      "valid Epoch 10 : 100%|██████████| 7/7 [00:01<00:00,  6.39batch/s, acc=tensor(1.), f1=tensor(1.), loss=0.111]\n",
      "  0%|          | 0/19 [00:00<?, ?batch/s]"
     ]
    }
   ],
   "metadata": {}
  },
  {
   "cell_type": "markdown",
   "source": [
    "# 4. 추론"
   ],
   "metadata": {}
  },
  {
   "cell_type": "code",
   "execution_count": null,
   "source": [
    "class TestDataset(Dataset):\n",
    "    def __init__(self, img_paths, transform):\n",
    "        self.img_paths = img_paths\n",
    "        self.transform = transform\n",
    "\n",
    "    def __getitem__(self, index):\n",
    "        image = PIL.Image.open(self.img_paths[index])\n",
    "        image = np.array(image.convert(\"RGB\"))\n",
    "        if self.transform:\n",
    "            image = self.transform(image=image)\n",
    "            image = image['image']\n",
    "        return image\n",
    "\n",
    "    def __len__(self):\n",
    "        return len(self.img_paths)"
   ],
   "outputs": [],
   "metadata": {}
  },
  {
   "cell_type": "code",
   "execution_count": null,
   "source": [
    "#model.load_state_dict(torch.load('/opt/ml/image-classification-level1-04/saved/models/20210830_195228/baseline_vit_base_patch16_384_lr1e-05_stepLR5_batch16_epoch22_valid_loss_0.00184.pt'))"
   ],
   "outputs": [],
   "metadata": {}
  },
  {
   "cell_type": "code",
   "execution_count": null,
   "source": [
    "submission = pd.read_csv(os.path.join(test_dir, 'info.csv'))\n",
    "image_dir = os.path.join(test_dir, 'new_images')\n",
    "\n",
    "image_paths = [os.path.join(image_dir, img_id) for img_id in submission.ImageID]\n",
    "dataset = TestDataset(image_paths, A_transform['test'])\n",
    "test_loader = DataLoader(dataset, batch_size=batch_size, shuffle=False)\n",
    "\n",
    "torch.load\n",
    "\n",
    "model.eval()\n",
    "all_predictions = []\n",
    "with tqdm(test_loader, total=test_loader.__len__(), unit=\"batch\") as test_bar:\n",
    "    for images in test_bar:\n",
    "        with torch.no_grad():\n",
    "            images = images.to(device)\n",
    "            pred = model(images)\n",
    "            pred = pred.argmax(dim=-1)\n",
    "            all_predictions.extend(pred.cpu().numpy())\n",
    "    \n",
    "submission['ans'] = all_predictions\n",
    "submission.to_csv(os.path.join(test_dir, 'submission.csv'), index=False)\n",
    "print('test inference is done!')"
   ],
   "outputs": [
    {
     "output_type": "stream",
     "name": "stderr",
     "text": [
      " 65%|██████▌   | 1029/1575 [01:25<00:44, 12.28batch/s]"
     ]
    }
   ],
   "metadata": {}
  },
  {
   "cell_type": "code",
   "execution_count": null,
   "source": [],
   "outputs": [],
   "metadata": {}
  }
 ],
 "metadata": {
  "orig_nbformat": 4,
  "language_info": {
   "name": "python",
   "version": "3.8.5",
   "mimetype": "text/x-python",
   "codemirror_mode": {
    "name": "ipython",
    "version": 3
   },
   "pygments_lexer": "ipython3",
   "nbconvert_exporter": "python",
   "file_extension": ".py"
  },
  "kernelspec": {
   "name": "python3",
   "display_name": "Python 3.8.5 64-bit ('base': conda)"
  },
  "interpreter": {
   "hash": "98b0a9b7b4eaaa670588a142fd0a9b87eaafe866f1db4228be72b4211d12040f"
  }
 },
 "nbformat": 4,
 "nbformat_minor": 2
}