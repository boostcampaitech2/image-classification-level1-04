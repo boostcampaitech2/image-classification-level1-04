{
 "cells": [
  {
   "cell_type": "code",
   "execution_count": 9,
   "source": [
    "import csv\n",
    "import glob\n",
    "import pandas as pd\n",
    "import numpy as np\n",
    "import PIL\n",
    "import cv2\n",
    "\n",
    "import torch\n",
    "import torch.nn as nn\n",
    "import torch.nn.functional as F\n",
    "from torch.utils.data import Dataset\n",
    "from torch.utils.data.dataloader import DataLoader\n",
    "\n",
    "import timm\n",
    "import albumentations as A\n",
    "from albumentations.pytorch import ToTensorV2\n",
    "from sklearn.model_selection import train_test_split\n",
    "from tqdm import tqdm\n",
    "import copy\n",
    "import os\n",
    "import wandb\n",
    "import time"
   ],
   "outputs": [],
   "metadata": {}
  },
  {
   "cell_type": "markdown",
   "source": [
    "# 1. 데이터 로드"
   ],
   "metadata": {}
  },
  {
   "cell_type": "code",
   "execution_count": 10,
   "source": [
    "train_dir = '../../input/data/train'\n",
    "test_dir = '../../input/data/eval'\n",
    "save_dir = '../saved/models/'"
   ],
   "outputs": [],
   "metadata": {}
  },
  {
   "cell_type": "markdown",
   "source": [
    "### 하이퍼파라미터"
   ],
   "metadata": {}
  },
  {
   "cell_type": "code",
   "execution_count": 11,
   "source": [
    "#model_name = 'efficientnet_b1'\n",
    "model_name = 'vit_base_patch16_384'\n",
    "learning_rate = 2e-5\n",
    "batch_size = 16\n",
    "step_size = 5\n",
    "epochs = 15\n",
    "earlystop = 5\n",
    "\n",
    "A_transform = {\n",
    "    'train':\n",
    "        A.Compose([\n",
    "            A.Resize(512, 512),\n",
    "            A.RandomCrop(384, 384),\n",
    "            # A.Resize(224, 224),\n",
    "            A.HorizontalFlip(p=0.5),\n",
    "            A.Cutout(num_holes=8, max_h_size=32,max_w_size=32),\n",
    "            A.ElasticTransform(),\n",
    "            A.Normalize(mean=[0.485, 0.456, 0.406], std=[0.229, 0.224, 0.225]),\n",
    "            ToTensorV2()\n",
    "        ]),\n",
    "    'valid':\n",
    "        A.Compose([\n",
    "            A.Resize(384, 384),\n",
    "            # A.Resize(224, 224),\n",
    "            A.Normalize(mean=[0.485, 0.456, 0.406], std=[0.229, 0.224, 0.225]),\n",
    "            ToTensorV2()\n",
    "        ]),\n",
    "    'test':\n",
    "        A.Compose([\n",
    "            A.Resize(384, 384),\n",
    "            # A.Resize(224, 224),\n",
    "            A.Normalize(mean=[0.485, 0.456, 0.406], std=[0.229, 0.224, 0.225]),\n",
    "            ToTensorV2()\n",
    "        ])\n",
    "}"
   ],
   "outputs": [
    {
     "output_type": "stream",
     "name": "stderr",
     "text": [
      "/opt/conda/lib/python3.8/site-packages/albumentations/augmentations/transforms.py:688: FutureWarning: This class has been deprecated. Please use CoarseDropout\n",
      "  warnings.warn(\n"
     ]
    }
   ],
   "metadata": {}
  },
  {
   "cell_type": "code",
   "execution_count": 12,
   "source": [
    "class LoadCSV():\n",
    "    def __init__(self, dir):\n",
    "        self.dir = dir\n",
    "        self.img_dir =train_dir + '/new_images/'\n",
    "        self.origin_csv_path = train_dir + '/train.csv'\n",
    "        self.trans_csv_path = train_dir + '/trans_train.csv'\n",
    "        \n",
    "        if not os.path.exists(self.trans_csv_path):\n",
    "            self._makeCSV()\n",
    "        self.df = pd.read_csv(self.trans_csv_path)\n",
    "        #self.df = self.df[:200]\n",
    "    def _makeCSV(self):        \n",
    "        with open(self.trans_csv_path, 'w', newline='') as f:\n",
    "            writer = csv.writer(f)\n",
    "            writer.writerow([\"path\", \"label\"])\n",
    "\n",
    "            df = pd.read_csv(self.origin_csv_path)\n",
    "            for idx in range(len(df)):\n",
    "                data = df.iloc[idx]\n",
    "                img_path_base = os.path.join(os.path.join(self.img_dir, data['path']), '*')\n",
    "                for img_path in glob.glob(img_path_base):\n",
    "                    label = 0\n",
    "                    if \"incorrect\" in img_path:\n",
    "                        label+=6\n",
    "                    elif 'normal' in img_path:\n",
    "                        label+=12\n",
    "                    elif data['gender']=='female':\n",
    "                        label+=3\n",
    "                    elif data['age'] >= 30 and data['age'] < 60:\n",
    "                        label+=1\n",
    "                    elif data['age'] >= 60:\n",
    "                        label+=2\n",
    "                    writer.writerow([img_path, label])\n",
    "        f.close()\n",
    "\n",
    "class MaskDataset(Dataset):\n",
    "    def __init__(self, dataframe, transform=None):\n",
    "        super().__init__()\n",
    "        self.df = dataframe\n",
    "        self.transform = transform\n",
    "\n",
    "    def __len__(self):\n",
    "        return len(self.df)\n",
    "\n",
    "    def __getitem__(self, idx):\n",
    "        class_id = torch.tensor(self.df['label'].iloc[idx])\n",
    "        img = PIL.Image.open(self.df['path'].iloc[idx])\n",
    "        img = np.array(img.convert(\"RGB\"))\n",
    "        if self.transform:\n",
    "            img = self.transform(image=img)['image']\n",
    "        return img, class_id"
   ],
   "outputs": [],
   "metadata": {}
  },
  {
   "cell_type": "markdown",
   "source": [
    "# 2. 모델 설계\n"
   ],
   "metadata": {}
  },
  {
   "cell_type": "code",
   "execution_count": 13,
   "source": [
    "class MyModel(nn.Module):\n",
    "    def __init__(self, model_name, num_classes):\n",
    "        super(MyModel, self).__init__()\n",
    "        self.num_classes = num_classes\n",
    "        self.model = timm.create_model(model_name, pretrained=True)\n",
    "\n",
    "        # n_features = self.model.classifier.in_features\n",
    "        # self.model.classifier = torch.nn.Linear(in_features=n_features, out_features=num_classes, bias=True)\n",
    "        # torch.nn.init.xavier_uniform_(self.model.classifier.weight)\n",
    "        # stdv = 1/np.sqrt(self.num_classes)\n",
    "        # self.model.classifier.bias.data.uniform_(-stdv, stdv)\n",
    "\n",
    "        n_features = self.model.head.in_features\n",
    "        self.model.head = torch.nn.Linear(in_features=n_features, out_features=self.num_classes, bias=True)\n",
    "        torch.nn.init.xavier_uniform_(self.model.head.weight)\n",
    "        stdv = 1/np.sqrt(self.num_classes)\n",
    "        self.model.head.bias.data.uniform_(-stdv, stdv)\n",
    "        \n",
    "    def forward(self, x):\n",
    "        return self.model(x)"
   ],
   "outputs": [],
   "metadata": {}
  },
  {
   "cell_type": "code",
   "execution_count": 14,
   "source": [
    "device = torch.device('cuda' if torch.cuda.is_available() else 'cpu')\n",
    "\n",
    "criterion = nn.CrossEntropyLoss()\n",
    "optimizer = torch.optim.Adam(model.parameters(), learning_rate)\n",
    "lr_scheduler = torch.optim.lr_scheduler.CosineAnnealingLR(optimizer, T_max=50, eta_min=0)"
   ],
   "outputs": [],
   "metadata": {}
  },
  {
   "cell_type": "markdown",
   "source": [
    "# 3. 학습"
   ],
   "metadata": {}
  },
  {
   "cell_type": "code",
   "execution_count": 15,
   "source": [
    "today = time.strftime('%Y%m%d_%H%M%S', time.localtime(time.time()))\n",
    "if not os.path.exists(save_dir + today):\n",
    "    os.makedirs(save_dir + today)"
   ],
   "outputs": [],
   "metadata": {}
  },
  {
   "cell_type": "code",
   "execution_count": 16,
   "source": [
    "from sklearn.model_selection import StratifiedKFold\n",
    "mask_csv = LoadCSV(train_dir)\n",
    "kfold = StratifiedKFold(n_splits=5, shuffle=False)\n",
    "\n",
    "for fold, (train_idx, valid_idx) in enumerate(kfold.split(mask_csv.df['path'], mask_csv.df['label'])):\n",
    "    print(f'FOLD {fold}')\n",
    "    mask_train = MaskDataset(mask_csv.df,  transform=A_transform['train'])\n",
    "    train_subsampler = torch.utils.data.SubsetRandomSampler(train_idx)\n",
    "    valid_subsampler = torch.utils.data.SubsetRandomSampler(valid_idx)\n",
    "\n",
    "    train_loader = DataLoader(mask_train, batch_size=batch_size, sampler=train_subsampler, drop_last=False, num_workers=8, pin_memory=True)\n",
    "    valid_loader = DataLoader(mask_train, batch_size=batch_size, sampler=valid_subsampler, drop_last=False, num_workers=8, pin_memory=True)\n",
    "    dataloaders = {'train': train_loader, 'valid':valid_loader}\n",
    "\n",
    "    model = MyModel(model_name, 18).to(device)\n",
    "    earlystop_value = 0\n",
    "    best_acc = 0\n",
    "    best_loss = 999999999\n",
    "    best_model = copy.deepcopy(model.state_dict())\n",
    "    for epoch in range(epochs):\n",
    "        if earlystop_value >= earlystop:\n",
    "            break\n",
    "        train_loss, valid_loss, train_acc_list, valid_acc_list = 0, 0, [],[]\n",
    "\n",
    "        for phase in ['train', 'valid']:\n",
    "            if phase == 'train':\n",
    "                model.train()\n",
    "            else:\n",
    "                model.eval()\n",
    "\n",
    "            running_loss = 0.0\n",
    "            running_corrects = 0\n",
    "            with tqdm(dataloaders[phase], total=dataloaders[phase].__len__(), unit=\"batch\") as train_bar:\n",
    "                for inputs, labels in train_bar:\n",
    "                    train_bar.set_description(f\"{phase} Epoch {epoch} \")\n",
    "                    inputs, labels = inputs.to(device), labels.to(device)\n",
    "\n",
    "                    optimizer.zero_grad()\n",
    "                    outputs = model(inputs)\n",
    "                    loss = criterion(outputs, labels)\n",
    "                    \n",
    "                    if phase == 'train':\n",
    "                        loss.backward()\n",
    "                        optimizer.step()\n",
    "\n",
    "                    outputs = outputs.cpu().detach().numpy()\n",
    "                    labels = labels.cpu().detach().numpy()\n",
    "\n",
    "                    running_loss += loss.item() * inputs.size(0)\n",
    "                    running_corrects += (np.argmax(outputs, axis=1)== labels).mean()\n",
    "                    epoch_loss = running_loss / len(dataloaders[phase].dataset)\n",
    "                    epoch_acc = running_corrects / len(dataloaders[phase].dataset)\n",
    "                    train_bar.set_postfix(loss=epoch_loss, acc=epoch_acc)\n",
    "\n",
    "            lr_scheduler.step()\n",
    "            if phase=='valid':\n",
    "                if epoch_loss < best_loss:\n",
    "                    best_loss = epoch_loss\n",
    "                    best_model_wts = copy.deepcopy(model.state_dict())\n",
    "                    torch.save(best_model_wts, f'{save_dir}{today}/baseline_{model_name}_lr{learning_rate}_stepLR{step_size}_batch{batch_size}_kfold{fold}_epoch{epoch}_valid_loss_{epoch_loss:.5f}.pt')\n",
    "                    earlystop_value = 0\n",
    "                else:\n",
    "                    earlystop_value += 1\n",
    "\n",
    "    model.load_state_dict(best_model_wts)"
   ],
   "outputs": [
    {
     "output_type": "stream",
     "name": "stderr",
     "text": [
      "  0%|          | 0/945 [00:00<?, ?batch/s]"
     ]
    },
    {
     "output_type": "stream",
     "name": "stdout",
     "text": [
      "FOLD 0\n"
     ]
    },
    {
     "output_type": "stream",
     "name": "stderr",
     "text": [
      "train Epoch 0 : 100%|██████████| 945/945 [09:02<00:00,  1.74batch/s, acc=0.0459, loss=0.215]\n",
      "valid Epoch 0 : 100%|██████████| 237/237 [00:59<00:00,  3.96batch/s, acc=0.0106, loss=0.167]\n",
      "train Epoch 1 : 100%|██████████| 945/945 [09:33<00:00,  1.65batch/s, acc=0.048, loss=0.0968]\n",
      "valid Epoch 1 : 100%|██████████| 237/237 [01:09<00:00,  3.42batch/s, acc=0.0106, loss=0.113]\n",
      "train Epoch 2 : 100%|██████████| 945/945 [10:11<00:00,  1.54batch/s, acc=0.0484, loss=0.0781]\n",
      "valid Epoch 2 : 100%|██████████| 237/237 [01:01<00:00,  3.85batch/s, acc=0.0111, loss=0.0847]\n",
      "train Epoch 3 : 100%|██████████| 945/945 [09:43<00:00,  1.62batch/s, acc=0.0488, loss=0.0588]\n",
      "valid Epoch 3 : 100%|██████████| 237/237 [01:30<00:00,  2.62batch/s, acc=0.0111, loss=0.0969]\n",
      "train Epoch 4 : 100%|██████████| 945/945 [09:17<00:00,  1.70batch/s, acc=0.049, loss=0.05]\n",
      "valid Epoch 4 : 100%|██████████| 237/237 [01:00<00:00,  3.92batch/s, acc=0.0109, loss=0.112]\n",
      "train Epoch 5 : 100%|██████████| 945/945 [09:04<00:00,  1.74batch/s, acc=0.0491, loss=0.0419]\n",
      "valid Epoch 5 : 100%|██████████| 237/237 [01:01<00:00,  3.83batch/s, acc=0.0108, loss=0.138]\n",
      "train Epoch 6 : 100%|██████████| 945/945 [09:05<00:00,  1.73batch/s, acc=0.0493, loss=0.0322]\n",
      "valid Epoch 6 : 100%|██████████| 237/237 [01:01<00:00,  3.85batch/s, acc=0.0109, loss=0.152]\n",
      "train Epoch 7 : 100%|██████████| 945/945 [09:04<00:00,  1.73batch/s, acc=0.0494, loss=0.0301]\n",
      "valid Epoch 7 : 100%|██████████| 237/237 [01:03<00:00,  3.74batch/s, acc=0.0108, loss=0.124]"
     ]
    },
    {
     "output_type": "stream",
     "name": "stdout",
     "text": [
      "FOLD 1\n",
      "FOLD 2\n",
      "FOLD 3\n",
      "FOLD 4\n"
     ]
    },
    {
     "output_type": "stream",
     "name": "stderr",
     "text": [
      "\n"
     ]
    }
   ],
   "metadata": {}
  },
  {
   "cell_type": "markdown",
   "source": [
    "# 4. 추론"
   ],
   "metadata": {}
  },
  {
   "cell_type": "code",
   "execution_count": 17,
   "source": [
    "class TestDataset(Dataset):\n",
    "    def __init__(self, img_paths, transform):\n",
    "        self.img_paths = img_paths\n",
    "        self.transform = transform\n",
    "\n",
    "    def __getitem__(self, index):\n",
    "        image = PIL.Image.open(self.img_paths[index])\n",
    "        image = np.array(image.convert(\"RGB\"))\n",
    "        if self.transform:\n",
    "            image = self.transform(image=image)\n",
    "            image = image['image']\n",
    "        return image\n",
    "\n",
    "    def __len__(self):\n",
    "        return len(self.img_paths)"
   ],
   "outputs": [],
   "metadata": {}
  },
  {
   "cell_type": "code",
   "execution_count": 18,
   "source": [
    "submission = pd.read_csv(os.path.join(test_dir, 'info.csv'))\n",
    "image_dir = os.path.join(test_dir, 'new_images')\n",
    "\n",
    "image_paths = [os.path.join(image_dir, img_id) for img_id in submission.ImageID]\n",
    "dataset = TestDataset(image_paths, A_transform['test'])\n",
    "test_loader = DataLoader(dataset, batch_size=batch_size, shuffle=False)\n",
    "\n",
    "model.eval()\n",
    "all_predictions = []\n",
    "with tqdm(test_loader, total=test_loader.__len__(), unit=\"batch\") as test_bar:\n",
    "    for images in test_bar:\n",
    "        with torch.no_grad():\n",
    "            images = images.to(device)\n",
    "            pred = model(images)\n",
    "            pred = pred.argmax(dim=-1)\n",
    "            all_predictions.extend(pred.cpu().numpy())\n",
    "    \n",
    "submission['ans'] = all_predictions\n",
    "submission.to_csv(os.path.join(test_dir, 'submission.csv'), index=False)\n",
    "print('test inference is done!')"
   ],
   "outputs": [
    {
     "output_type": "stream",
     "name": "stderr",
     "text": [
      "100%|██████████| 788/788 [03:23<00:00,  3.87batch/s]"
     ]
    },
    {
     "output_type": "stream",
     "name": "stdout",
     "text": [
      "test inference is done!\n"
     ]
    },
    {
     "output_type": "stream",
     "name": "stderr",
     "text": [
      "\n"
     ]
    }
   ],
   "metadata": {}
  },
  {
   "cell_type": "code",
   "execution_count": null,
   "source": [
    "import numpy as np\n",
    "import torch.nn.functional as F\n",
    "model_num1=MyModel('efficientnet_b3', 18).to(device)\n",
    "model_num1.load_state_dict(torch.load('/opt/ml/image-classification-level1-04/saved/models/PretrainModelTimm_NoOversampling_Cutout_Elastic_CLAHE_Cutmix_Transform_input_224/0831_204359/model_best.pth')['state_dict'])\n",
    "model_num2 = MyModel(model_name, 18).to(device)\n",
    "model_num2.load_state_dict(torch.load('saved/models/20210901_022127/baseline_efficientnet_b1_lr1e-05_stepLR5_kfoldStratifiedKFold(n_splits=5, random_state=None, shuffle=False)_batch16_epoch1_valid_loss_0.46484.pt'))\n",
    "\n",
    "submission = pd.read_csv(os.path.join(test_dir, 'info.csv'))\n",
    "image_dir = os.path.join(test_dir, 'images')\n",
    "\n",
    "image_paths = [os.path.join(image_dir, img_id) for img_id in submission.ImageID]\n",
    "dataset = TestDataset(image_paths[:200], A_transform['test'])\n",
    "test_loader = DataLoader(dataset, batch_size=batch_size, shuffle=False)\n",
    "\n",
    "best_models=[model_num1,model_num2] \n",
    "\n",
    "prediction_array=np.zeros((12600,18))\n",
    "ratio=[0.6,0.4]\n",
    "\n",
    "for i,model in enumerate(best_models):\n",
    "    idx=0\n",
    "    with tqdm(test_loader, total=test_loader.__len__(), unit=\"batch\") as test_bar:\n",
    "        for images in test_bar:            \n",
    "            with torch.no_grad():\n",
    "                predictions_list = []\n",
    "                images = images.to(device)\n",
    "                pred = model(images)\n",
    "                pred=F.softmax(pred,dim=-1)\n",
    "                pred=pred*ratio[i]\n",
    "                #pred = pred.argmax(dim=-1)\n",
    "                pred = pred.tolist()\n",
    "                batch_idx = batch_size * idx\n",
    "                #print('pred',pred)\n",
    "                # images.shape[0] 는 64. 즉, 배치 만큼만 채워 넣는다.\n",
    "                if (idx+1) == len(test_loader):\n",
    "                    prediction_array[batch_idx:batch_idx + 8,:] = pred\n",
    "                    predictions_list.append(prediction_array[...,np.newaxis])\n",
    "                else :\n",
    "                    prediction_array[batch_idx: batch_idx + 16, :] = pred\n",
    "                    predictions_list.append(prediction_array[..., np.newaxis])\n",
    "                idx+=1\n",
    "            \n",
    "print(predictions_list[-1][-16:])    \n",
    "# for i in range(200):\n",
    "    \n",
    "#     print(predictions_list[-1][i])\n",
    "    #  axis = 2를 기준으로 평균\n",
    "#predictions_array = np.concatenate(predictions_list, axis = 1)\n",
    "#predictions_mean = predictions_array.sum(axis = 1)\n",
    "\n",
    "# 평균 값이 0.5보다 클 경우 1 작으면 0\n",
    "\n",
    "#print(predictions_mean)\n",
    "        "
   ],
   "outputs": [],
   "metadata": {}
  }
 ],
 "metadata": {
  "orig_nbformat": 4,
  "language_info": {
   "name": "python",
   "version": "3.8.5",
   "mimetype": "text/x-python",
   "codemirror_mode": {
    "name": "ipython",
    "version": 3
   },
   "pygments_lexer": "ipython3",
   "nbconvert_exporter": "python",
   "file_extension": ".py"
  },
  "kernelspec": {
   "name": "python3",
   "display_name": "Python 3.8.5 64-bit ('base': conda)"
  },
  "interpreter": {
   "hash": "98b0a9b7b4eaaa670588a142fd0a9b87eaafe866f1db4228be72b4211d12040f"
  }
 },
 "nbformat": 4,
 "nbformat_minor": 2
}