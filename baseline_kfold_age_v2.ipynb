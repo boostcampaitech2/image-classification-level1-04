{
 "cells": [
  {
   "cell_type": "code",
   "execution_count": 91,
   "source": [
    "import csv\n",
    "import glob\n",
    "import pandas as pd\n",
    "import numpy as np\n",
    "import PIL\n",
    "import cv2\n",
    "\n",
    "import torch\n",
    "import torch.nn as nn\n",
    "import torch.nn.functional as F\n",
    "from torch.utils.data import Dataset\n",
    "from torch.utils.data.dataloader import DataLoader\n",
    "\n",
    "import timm\n",
    "import albumentations as A\n",
    "from albumentations.pytorch import ToTensorV2\n",
    "from sklearn.model_selection import train_test_split\n",
    "from tqdm import tqdm\n",
    "import copy\n",
    "import os\n",
    "import wandb\n",
    "import time\n",
    "import parse_config"
   ],
   "outputs": [],
   "metadata": {}
  },
  {
   "cell_type": "code",
   "execution_count": 92,
   "source": [
    "# fix random seeds for reproducibility\n",
    "SEED = 123\n",
    "torch.manual_seed(SEED)\n",
    "torch.backends.cudnn.deterministic = True\n",
    "torch.backends.cudnn.benchmark = False\n",
    "np.random.seed(SEED)"
   ],
   "outputs": [],
   "metadata": {}
  },
  {
   "cell_type": "markdown",
   "source": [
    "# 1. 데이터 로드"
   ],
   "metadata": {}
  },
  {
   "cell_type": "code",
   "execution_count": 93,
   "source": [
    "train_dir = '/opt/ml/input/data/train'\n",
    "test_dir = '/opt/ml/input/data/eval'\n",
    "save_dir = './saved/models/'"
   ],
   "outputs": [],
   "metadata": {}
  },
  {
   "cell_type": "markdown",
   "source": [
    "### 하이퍼파라미터"
   ],
   "metadata": {}
  },
  {
   "cell_type": "code",
   "execution_count": 94,
   "source": [
    "model_name = 'efficientnet_b1'\n",
    "#model_name = 'vit_large_r50_s32_384'\n",
    "learning_rate = 5e-5\n",
    "batch_size = 16\n",
    "T_max = 50\n",
    "epochs = 20\n",
    "earlystop = 5\n",
    "\n",
    "MEAN_IMAGENET = [0.485, 0.456, 0.406]\n",
    "STD_IMAGENET = [0.229, 0.224, 0.225]\n",
    "\n",
    "A_transform = {\n",
    "    'train':\n",
    "        A.Compose([\n",
    "            A.Resize(512, 512),\n",
    "            A.RandomCrop(384, 384),\n",
    "            A.HorizontalFlip(p=0.5),\n",
    "            A.Cutout(num_holes=8, max_h_size=32,max_w_size=32),\n",
    "            A.ElasticTransform(),\n",
    "            A.Normalize(mean=[0.485, 0.456, 0.406], std=[0.229, 0.224, 0.225]),\n",
    "            ToTensorV2()\n",
    "        ]),\n",
    "    'valid':\n",
    "        A.Compose([\n",
    "            A.Resize(384, 384),\n",
    "            A.Normalize(mean=[0.485, 0.456, 0.406], std=[0.229, 0.224, 0.225]),\n",
    "            ToTensorV2()\n",
    "        ]),\n",
    "    'VIT_test':\n",
    "        A.Compose([\n",
    "            A.Resize(384, 384),\n",
    "            A.Normalize(mean=[0.485, 0.456, 0.406], std=[0.229, 0.224, 0.225]),\n",
    "            ToTensorV2()\n",
    "        ]),\n",
    "    'ENN_test':\n",
    "        A.Compose([\n",
    "            A.Resize(224, 224),\n",
    "            A.Normalize(mean=[0.485, 0.456, 0.406], std=[0.229, 0.224, 0.225]),\n",
    "            ToTensorV2()\n",
    "        ])\n",
    "}"
   ],
   "outputs": [
    {
     "output_type": "stream",
     "name": "stderr",
     "text": [
      "/opt/conda/lib/python3.8/site-packages/albumentations/augmentations/transforms.py:688: FutureWarning: This class has been deprecated. Please use CoarseDropout\n",
      "  warnings.warn(\n"
     ]
    }
   ],
   "metadata": {}
  },
  {
   "cell_type": "code",
   "execution_count": 98,
   "source": [
    "from sklearn.utils import class_weight\n",
    "class LoadCSV():\n",
    "    def __init__(self, dir):\n",
    "        self.dir = dir\n",
    "        self.img_dir =train_dir + '/images/'\n",
    "        self.origin_csv_path = train_dir + '/train.csv'\n",
    "        self.trans_csv_path = train_dir + '/trans_train_age.csv'\n",
    "        self.incorrect_labels = {'error_in_female' : ['006359', '006360', '006361', '006362', '006363', '006364'],\n",
    "                                'error_in_male' : ['001498-1', '004432'],\n",
    "                                'swap_normal_incorrect' : ['000020', '004418', '005227']}\n",
    "\n",
    "        if not os.path.exists(self.trans_csv_path):\n",
    "            self._makeCSV()\n",
    "        self.df = pd.read_csv(self.trans_csv_path)\n",
    "        #self.df = self.df[:200]\n",
    "\n",
    "    def _makeCSV(self):        \n",
    "        with open(self.trans_csv_path, 'w', newline='') as f:\n",
    "            writer = csv.writer(f)\n",
    "            writer.writerow([\"gender\", \"age\", \"path\", \"label\"])\n",
    "\n",
    "            df = pd.read_csv(self.origin_csv_path)\n",
    "            for idx in range(len(df)):\n",
    "                data = df.iloc[idx]\n",
    "                img_path_base = os.path.join(os.path.join(self.img_dir, data['path']), '*')\n",
    "                if data['age'] <30:\n",
    "                    continue\n",
    "                for img_path in glob.glob(img_path_base):\n",
    "                    label = 0\n",
    "                    if data['gender']=='female':\n",
    "                        label+=4\n",
    "                    if data['age'] >= 30 and data['age'] < 40:\n",
    "                        label+=0\n",
    "                    elif data['age'] >= 40 and data['age'] < 50:\n",
    "                        label+=1\n",
    "                    elif data['age'] >= 50 and data['age'] < 60:\n",
    "                        label+=2\n",
    "                    elif data['age'] >= 60:\n",
    "                        label+=3\n",
    "                    # incorrect label fix\n",
    "                    ## 1. female -> male\n",
    "                    if data['id'] in self.incorrect_labels['error_in_female']:\n",
    "                        label-=4\n",
    "                    ## 2. male -> female\n",
    "                    if data['id'] in self.incorrect_labels['error_in_male']:\n",
    "                        label+=4\n",
    "                    writer.writerow([data['gender'], data['age'], img_path, label])\n",
    "        f.close()\n",
    "\n",
    "\n",
    "\n",
    "class MaskDataset(Dataset):\n",
    "    def __init__(self, dataframe, transform=None):\n",
    "        super().__init__()\n",
    "        self.df = dataframe\n",
    "        self.transform = transform\n",
    "        self.class_weights = self._get_class_weight()\n",
    "\n",
    "        if not os.path.exists(self.trans_csv_path):\n",
    "            self._makeCSV()\n",
    "        self.df = pd.read_csv(self.trans_csv_path)\n",
    "        #self.df = self.df[:200]\n",
    "\n",
    "    def _makeCSV(self):        \n",
    "        with open(self.trans_csv_path, 'w', newline='') as f:\n",
    "            writer = csv.writer(f)\n",
    "            writer.writerow([\"gender\", \"age\", \"path\", \"label\"])\n",
    "\n",
    "            df = pd.read_csv(self.origin_csv_path, header=None)\n",
    "            for idx in range(len(df)):\n",
    "                data = df.iloc[idx]\n",
    "                img_path_base = os.path.join(os.path.join(self.img_dir, data['path']), '*')\n",
    "                if data['age'] <30:\n",
    "                    continue\n",
    "                for img_path in glob.glob(img_path_base):\n",
    "                    label = 0\n",
    "                    if data['gender']=='female':\n",
    "                        label+=4\n",
    "                    if data['age'] >= 30 and data['age'] < 40:\n",
    "                        label+=0\n",
    "                    elif data['age'] >= 40 and data['age'] < 50:\n",
    "                        label+=1\n",
    "                    elif data['age'] >= 50 and data['age'] < 60:\n",
    "                        label+=2\n",
    "                    elif data['age'] >= 60:\n",
    "                        label+=3\n",
    "                    # incorrect label fix\n",
    "                    ## 1. female -> male\n",
    "                    if data['id'] in self.incorrect_labels['error_in_female']:\n",
    "                        label-=4\n",
    "                    ## 2. male -> female\n",
    "                    if data['id'] in self.incorrect_labels['error_in_male']:\n",
    "                        label+=4\n",
    "                    writer.writerow([data['gender'], data['age'], img_path, label])\n",
    "\n",
    "    def __len__(self):\n",
    "        return len(self.df)\n",
    "\n",
    "    def __getitem__(self, idx):\n",
    "        class_id = torch.tensor(self.df['label'].iloc[idx])\n",
    "        img = PIL.Image.open(self.df['path'].iloc[idx])\n",
    "        img = np.array(img.convert(\"RGB\"))\n",
    "        if self.transform:\n",
    "            img = self.transform(image=img)['image']\n",
    "        return img, class_id\n",
    "\n",
    "    def _get_class_weight(self):\n",
    "        class_weights = dict(enumerate(class_weight.compute_class_weight('balanced',\n",
    "                            classes=np.sort(np.unique(self.df.iloc[:, -1])), # label\n",
    "                            y=self.df.iloc[:, -1])))\n",
    "        return torch.tensor(list(class_weights.values()), dtype=torch.float)\n",
    "\n",
    "\n",
    "\n",
    "class MaskSubDataset(Dataset):\n",
    "    def __init__(self, dataset, transform=None):\n",
    "        self.img_dir = '/opt/ml/input/data' + '/images/'\n",
    "        self.origin_csv_path = '/opt/ml/input/data' + '/train_add.csv'\n",
    "        self.trans_csv_path = '/opt/ml/input/data' + '/trans_train_age_add.csv'\n",
    "        self.incorrect_labels = {'error_in_female' : ['006359', '006360', '006361', '006362', '006363', '006364'],\n",
    "                                'error_in_male' : ['001498-1', '004432'],\n",
    "                                'swap_normal_incorrect' : ['000020', '004418', '005227']}\n",
    "\n",
    "        if not os.path.exists(self.trans_csv_path):\n",
    "            self._makeCSV()\n",
    "        self.df = pd.read_csv(self.trans_csv_path)\n",
    "        \n",
    "        if transform is None: \n",
    "            self.transform = transforms_select(method='DEFAULT') # if you use VIT, use VIT_DEFAULT\n",
    "        else:\n",
    "            self.transform = transform\n",
    "        self.df = dataset\n",
    "\n",
    "    def _makeCSV(self):        \n",
    "        with open(self.trans_csv_path, 'w', newline='') as f:\n",
    "            writer = csv.writer(f)\n",
    "            writer.writerow([\"gender\", \"age\", \"path\", \"label\"])\n",
    "\n",
    "            df = pd.read_csv(self.origin_csv_path, header=None)\n",
    "            for idx in range(len(df)):\n",
    "                data = df.iloc[idx]\n",
    "                img_path_base = os.path.join(os.path.join(self.img_dir, data['path']), '*')\n",
    "                if data['age'] <30:\n",
    "                    continue\n",
    "                for img_path in glob.glob(img_path_base):\n",
    "                    label = 0\n",
    "                    if data['gender']=='female':\n",
    "                        label+=4\n",
    "                    if data['age'] >= 30 and data['age'] < 40:\n",
    "                        label+=0\n",
    "                    elif data['age'] >= 40 and data['age'] < 50:\n",
    "                        label+=1\n",
    "                    elif data['age'] >= 50 and data['age'] < 60:\n",
    "                        label+=2\n",
    "                    elif data['age'] >= 60:\n",
    "                        label+=3\n",
    "                    # incorrect label fix\n",
    "                    ## 1. female -> male\n",
    "                    if data['id'] in self.incorrect_labels['error_in_female']:\n",
    "                        label-=4\n",
    "                    ## 2. male -> female\n",
    "                    if data['id'] in self.incorrect_labels['error_in_male']:\n",
    "                        label+=4\n",
    "                    writer.writerow([data['gender'], data['age'], img_path, label])\n",
    "\n",
    "    def __len__(self):\n",
    "        return len(self.df)\n",
    "\n",
    "    def __getitem__(self, idx):\n",
    "        class_id = torch.tensor(self.df['label'].iloc[idx])\n",
    "        img = PIL.Image.open(self.df['path'].iloc[idx])\n",
    "        img = np.array(img.convert(\"RGB\"))\n",
    "        if self.transform:\n",
    "            img = self.transform(image=img)['image']\n",
    "        return img, class_id\n",
    "\n",
    "    def get_labels(self):\n",
    "        return self.df.iloc[:, -1]"
   ],
   "outputs": [],
   "metadata": {}
  },
  {
   "cell_type": "code",
   "execution_count": 99,
   "source": [
    "tst = MaskSubDataset()"
   ],
   "outputs": [
    {
     "output_type": "error",
     "ename": "TypeError",
     "evalue": "__init__() missing 1 required positional argument: 'dataset'",
     "traceback": [
      "\u001b[0;31m---------------------------------------------------------------------------\u001b[0m",
      "\u001b[0;31mTypeError\u001b[0m                                 Traceback (most recent call last)",
      "\u001b[0;32m<ipython-input-99-535efbbbdff9>\u001b[0m in \u001b[0;36m<module>\u001b[0;34m\u001b[0m\n\u001b[0;32m----> 1\u001b[0;31m \u001b[0mtst\u001b[0m \u001b[0;34m=\u001b[0m \u001b[0mMaskSubDataset\u001b[0m\u001b[0;34m(\u001b[0m\u001b[0;34m)\u001b[0m\u001b[0;34m\u001b[0m\u001b[0;34m\u001b[0m\u001b[0m\n\u001b[0m",
      "\u001b[0;31mTypeError\u001b[0m: __init__() missing 1 required positional argument: 'dataset'"
     ]
    }
   ],
   "metadata": {}
  },
  {
   "cell_type": "code",
   "execution_count": 96,
   "source": [
    "mask_csv = LoadCSV(train_dir)\n",
    "mask_train = MaskDataset(mask_csv.df,  transform=A_transform['train'])\n",
    "#train_loader = DataLoader(mask_train, batch_size=batch_size, sampler=train_subsampler, drop_last=False, num_workers=8, pin_memory=True)\n",
    "mask_train[0]"
   ],
   "outputs": [
    {
     "output_type": "execute_result",
     "data": {
      "text/plain": [
       "(tensor([[[ 1.6838,  1.6838,  1.6667,  ...,  1.5982,  1.5982,  1.5982],\n",
       "          [ 1.6838,  1.6838,  1.6667,  ...,  1.5982,  1.5982,  1.5982],\n",
       "          [ 1.6838,  1.6838,  1.6667,  ...,  1.5982,  1.5982,  1.5982],\n",
       "          ...,\n",
       "          [ 0.1254,  0.3138,  0.7419,  ..., -0.7650, -0.7650, -0.7650],\n",
       "          [ 0.0912,  0.2453,  0.6221,  ..., -0.7822, -0.7650, -0.7479],\n",
       "          [-0.0116,  0.1083,  0.4508,  ..., -0.7308, -0.7308, -0.7308]],\n",
       " \n",
       "         [[ 1.8333,  1.8333,  1.8158,  ...,  1.7458,  1.7458,  1.7458],\n",
       "          [ 1.8333,  1.8333,  1.8158,  ...,  1.7458,  1.7458,  1.7458],\n",
       "          [ 1.8333,  1.8333,  1.8158,  ...,  1.7458,  1.7458,  1.7458],\n",
       "          ...,\n",
       "          [ 0.6078,  0.7479,  1.0630,  ..., -0.3375, -0.3375, -0.3025],\n",
       "          [ 0.5553,  0.6779,  0.9580,  ..., -0.3550, -0.3375, -0.3200],\n",
       "          [ 0.4853,  0.5728,  0.8179,  ..., -0.3550, -0.3375, -0.3375]],\n",
       " \n",
       "         [[ 1.9777,  1.9777,  1.9603,  ...,  1.8905,  1.8905,  1.8905],\n",
       "          [ 1.9777,  1.9777,  1.9603,  ...,  1.8905,  1.8905,  1.8905],\n",
       "          [ 1.9777,  1.9777,  1.9603,  ...,  1.8905,  1.8905,  1.8905],\n",
       "          ...,\n",
       "          [ 1.0017,  0.9668,  1.0365,  ...,  0.5485,  0.5485,  0.5659],\n",
       "          [ 0.9842,  0.9319,  0.9842,  ...,  0.4962,  0.5136,  0.5311],\n",
       "          [ 0.9319,  0.8797,  0.9145,  ...,  0.4614,  0.4788,  0.4788]]]),\n",
       " tensor(5))"
      ]
     },
     "metadata": {},
     "execution_count": 96
    }
   ],
   "metadata": {}
  },
  {
   "cell_type": "code",
   "execution_count": 97,
   "source": [
    "(mask_csv.df['age'] >= 60).value_counts()"
   ],
   "outputs": [
    {
     "output_type": "execute_result",
     "data": {
      "text/plain": [
       "False    8589\n",
       "True     1344\n",
       "Name: age, dtype: int64"
      ]
     },
     "metadata": {},
     "execution_count": 97
    }
   ],
   "metadata": {}
  },
  {
   "cell_type": "code",
   "execution_count": 9,
   "source": [
    "mask_csv.df[(mask_csv.df['age'] > 30 )]['age'].value_counts()"
   ],
   "outputs": [
    {
     "output_type": "execute_result",
     "data": {
      "text/plain": [
       "60    1344\n",
       "58    1113\n",
       "56     861\n",
       "57     742\n",
       "55     700\n",
       "59     595\n",
       "54     574\n",
       "50     560\n",
       "52     546\n",
       "53     448\n",
       "51     441\n",
       "48     273\n",
       "49     217\n",
       "45     189\n",
       "40     140\n",
       "35     133\n",
       "43     126\n",
       "46      98\n",
       "38      98\n",
       "42      91\n",
       "44      91\n",
       "34      91\n",
       "47      70\n",
       "36      56\n",
       "32      49\n",
       "41      49\n",
       "39      42\n",
       "33      35\n",
       "37      21\n",
       "31      21\n",
       "Name: age, dtype: int64"
      ]
     },
     "metadata": {},
     "execution_count": 9
    }
   ],
   "metadata": {}
  },
  {
   "cell_type": "markdown",
   "source": [
    "# 2. 모델 설계\n"
   ],
   "metadata": {}
  },
  {
   "cell_type": "code",
   "execution_count": 10,
   "source": [
    "class VIT_Model(nn.Module):\n",
    "    def __init__(self, model_name, num_classes):\n",
    "        super(VIT_Model, self).__init__()\n",
    "        self.num_classes = num_classes\n",
    "        self.model = timm.create_model(model_name, pretrained=True)\n",
    "\n",
    "        n_features = self.model.head.in_features\n",
    "        self.model.head = torch.nn.Linear(in_features=n_features, out_features=self.num_classes, bias=True)\n",
    "        torch.nn.init.xavier_uniform_(self.model.head.weight)\n",
    "        stdv = 1/np.sqrt(self.num_classes)\n",
    "        self.model.head.bias.data.uniform_(-stdv, stdv)\n",
    "        \n",
    "    def forward(self, x):\n",
    "        return self.model(x)\n",
    "\n",
    "class ENN_Model(nn.Module):\n",
    "    def __init__(self, model_name, num_classes):\n",
    "        super(ENN_Model, self).__init__()\n",
    "        self.num_classes = num_classes\n",
    "        self.model = timm.create_model(model_name, pretrained=True)\n",
    "\n",
    "        n_features = self.model.classifier.in_features\n",
    "        self.model.classifier = torch.nn.Linear(in_features=n_features, out_features=num_classes, bias=True)\n",
    "        torch.nn.init.xavier_uniform_(self.model.classifier.weight)\n",
    "        stdv = 1/np.sqrt(self.num_classes)\n",
    "        self.model.classifier.bias.data.uniform_(-stdv, stdv)\n",
    "\n",
    "    def forward(self, x):\n",
    "        return self.model(x)\n",
    "\n",
    "class AgeNet(nn.Module):\n",
    "    def __init__(self):\n",
    "        super(AgeNet, self).__init__()\n",
    "        self.conv1 = nn.Conv2d(in_channels=3, out_channels=96, kernel_size=7, stride=4, padding=0)\n",
    "        self.conv2 = nn.Conv2d(in_channels=96, out_channels=256, kernel_size=5, stride=1, padding=2)\n",
    "        self.conv3 = nn.Conv2d(in_channels=256, out_channels=384, kernel_size=3, stride=1, padding=1)\n",
    "        self.fc1 = nn.Linear(in_features=384 * 11 * 11, out_features=512)\n",
    "        self.fc2 = nn.Linear(in_features=512, out_features=512)\n",
    "        self.fc3 = nn.Linear(in_features=512, out_features=8)\n",
    "        self.norm = nn.LocalResponseNorm(size=5, alpha=0.0001, beta=0.75)\n",
    "        self.pool = nn.MaxPool2d(kernel_size=(3, 3), stride=2)\n",
    "        self.dropout = nn.Dropout(p=0.5)\n",
    "\n",
    "    def forward(self, x):\n",
    "        x = F.relu(self.conv1(x))\n",
    "        x = self.norm(self.pool(x))\n",
    "        x = F.relu(self.conv2(x))\n",
    "        x = self.norm(self.pool(x))\n",
    "        x = F.relu(self.conv3(x))\n",
    "        x = self.pool(x)\n",
    "        #print(x.shape)\n",
    "        x = x.view(-1, 384 * 11 * 11)\n",
    "        x = F.relu(self.fc1(x))\n",
    "        x = self.dropout(x)\n",
    "        x = F.relu(self.fc2(x))\n",
    "        x = self.dropout(x)\n",
    "        x = F.relu(self.fc3(x))\n",
    "        return x"
   ],
   "outputs": [],
   "metadata": {}
  },
  {
   "cell_type": "markdown",
   "source": [
    "# 3. 학습"
   ],
   "metadata": {}
  },
  {
   "cell_type": "code",
   "execution_count": 11,
   "source": [
    "device = torch.device('cuda' if torch.cuda.is_available() else 'cpu')\n",
    "\n",
    "today = time.strftime('%Y%m%d_%H%M%S', time.localtime(time.time()))\n",
    "if not os.path.exists(save_dir + today):\n",
    "    os.makedirs(save_dir + today + '_' + model_name)\n",
    "\n",
    "import wandb\n",
    "wandb.login()\n",
    "\n",
    "import torchmetrics\n",
    "from torchmetrics.functional import f1\n",
    "calc_train_acc = torchmetrics.Accuracy()\n",
    "calc_train_f1 = torchmetrics.F1(num_classes=18)\n",
    "calc_valid_acc = torchmetrics.Accuracy()"
   ],
   "outputs": [
    {
     "output_type": "stream",
     "name": "stderr",
     "text": [
      "Failed to detect the name of this notebook, you can set it manually with the WANDB_NOTEBOOK_NAME environment variable to enable code saving.\n",
      "\u001b[34m\u001b[1mwandb\u001b[0m: Currently logged in as: \u001b[33mnudago\u001b[0m (use `wandb login --relogin` to force relogin)\n"
     ]
    }
   ],
   "metadata": {}
  },
  {
   "cell_type": "code",
   "execution_count": 12,
   "source": [
    "from sklearn.model_selection import StratifiedKFold\n",
    "mask_csv = LoadCSV(train_dir)\n",
    "kfold = StratifiedKFold(n_splits=5, shuffle=False)\n",
    "\n",
    "for fold, (train_idx, valid_idx) in enumerate(kfold.split(mask_csv.df['path'], mask_csv.df['label'])):\n",
    "    print(f'FOLD {fold}')\n",
    "\n",
    "    mask_train = MaskDataset(mask_csv.df,  transform=A_transform['train'])\n",
    "    train_subsampler = torch.utils.data.SubsetRandomSampler(train_idx)\n",
    "    valid_subsampler = torch.utils.data.SubsetRandomSampler(valid_idx)\n",
    "\n",
    "    train_loader = DataLoader(mask_train, batch_size=batch_size, sampler=train_subsampler, drop_last=False, num_workers=8, pin_memory=True)\n",
    "    valid_loader = DataLoader(mask_train, batch_size=batch_size, sampler=valid_subsampler, drop_last=False, num_workers=8, pin_memory=True)\n",
    "    dataloaders = {'train': train_loader, 'valid':valid_loader}\n",
    "\n",
    "    model = ENN_Model(model_name,num_classes=8).to(device)\n",
    "    #model = AgeNet().to(device)\n",
    "    criterion = nn.CrossEntropyLoss(weight=train_loader.dataset.class_weights.to(device))\n",
    "    optimizer = torch.optim.Adam(model.parameters(), learning_rate)\n",
    "    lr_scheduler = torch.optim.lr_scheduler.CosineAnnealingLR(optimizer, T_max=50, eta_min=0)\n",
    "    \n",
    "    earlystop_value = 0\n",
    "    best_acc = 0\n",
    "    best_loss = 999999999\n",
    "    best_model = copy.deepcopy(model.state_dict())\n",
    "\n",
    "    wandb.init(project=\"age_kfold\", entity='boostcamp-level01-04', config={\"learning_rate\":learning_rate, \"batch_size\":batch_size, \"epochs\":epochs})\n",
    "    now = time.strftime('%Y%m%d_%H%M%S', time.localtime(time.time()))\n",
    "    wandb.watch(model, criterion, log='all')\n",
    "    wandb.run.name = f'{model_name}_kfold{fold}_{now}_yh_real_eff'\n",
    "    example_ct = 0\n",
    "    \n",
    "    for epoch in range(epochs):\n",
    "        if earlystop_value >= earlystop:\n",
    "            break\n",
    "        train_loss, valid_loss, train_acc_list, valid_acc_list = 0, 0, [],[]\n",
    "\n",
    "        model.train()\n",
    "        running_loss = 0.0\n",
    "        with tqdm(dataloaders['train'], total=dataloaders['train'].__len__(), unit=\"batch\") as train_bar:\n",
    "            for batch_idx, (inputs, labels) in enumerate(train_bar):\n",
    "                example_ct = epoch * len(dataloaders['train']) + batch_idx\n",
    "                train_bar.set_description(f\"train Epoch {epoch} \")\n",
    "                inputs, labels = inputs.to(device), labels.to(device)\n",
    "\n",
    "                optimizer.zero_grad()\n",
    "                outputs = model(inputs)\n",
    "                loss = criterion(outputs, labels)\n",
    "                loss.backward()\n",
    "                optimizer.step()\n",
    "\n",
    "                outputs = outputs.cpu().detach()#.numpy()\n",
    "                labels = labels.cpu().detach()#.numpy()\n",
    "\n",
    "                running_loss += loss.item() * inputs.size(0)\n",
    "                epoch_loss = running_loss / len(dataloaders['train'].dataset)\n",
    "                train_acc = calc_train_acc(outputs.argmax(1), labels)\n",
    "                train_bar.set_postfix(loss=epoch_loss, acc=train_acc)\n",
    "\n",
    "        wandb.log({'train_loss':loss.item(),  'train_acc':calc_train_acc.compute()}, step=example_ct)\n",
    "        lr_scheduler.step()\n",
    "\n",
    "\n",
    "        model.eval()\n",
    "        running_loss = 0.0\n",
    "        with tqdm(dataloaders['valid'], total=dataloaders['valid'].__len__(), unit=\"batch\") as valid_bar:\n",
    "            for batch_idx, (inputs, labels) in enumerate(valid_bar):\n",
    "                valid_bar.set_description(f\"valid Epoch {epoch} \")\n",
    "                inputs, labels = inputs.to(device), labels.to(device)\n",
    "\n",
    "                optimizer.zero_grad()\n",
    "                outputs = model(inputs)\n",
    "                loss = criterion(outputs, labels)\n",
    "\n",
    "                outputs = outputs.cpu().detach()#.numpy()\n",
    "                labels = labels.cpu().detach()#.numpy()\n",
    "\n",
    "                running_loss += loss.item() * inputs.size(0)\n",
    "                epoch_loss = running_loss / len(dataloaders['valid'].dataset)\n",
    "                valid_acc = calc_valid_acc(outputs.argmax(1), labels)\n",
    "                valid_bar.set_postfix(loss=epoch_loss, acc=valid_acc)\n",
    "\n",
    "        wandb.log({'valid_loss':epoch_loss,  'valid_acc':calc_valid_acc.compute()}, step=example_ct)\n",
    "        if epoch_loss < best_loss:\n",
    "            best_loss = epoch_loss\n",
    "            best_model_wts = copy.deepcopy(model.state_dict())\n",
    "            torch.save(best_model_wts, f'{save_dir}{today}_{model_name}/baseline_{model_name}_lr{learning_rate}_batch{batch_size}_kfold{fold}_epoch{epoch}_valid_loss_{epoch_loss:.5f}.pt')\n",
    "            earlystop_value = 0\n",
    "        else:\n",
    "            earlystop_value += 1"
   ],
   "outputs": [
    {
     "output_type": "stream",
     "name": "stdout",
     "text": [
      "FOLD 0\n"
     ]
    },
    {
     "output_type": "display_data",
     "data": {
      "text/plain": [
       "<IPython.core.display.HTML object>"
      ],
      "text/html": [
       "\n",
       "                Tracking run with wandb version 0.12.1<br/>\n",
       "                Syncing run <strong style=\"color:#cdcd00\">confused-hill-18</strong> to <a href=\"https://wandb.ai\" target=\"_blank\">Weights & Biases</a> <a href=\"https://docs.wandb.com/integrations/jupyter.html\" target=\"_blank\">(Documentation)</a>.<br/>\n",
       "                Project page: <a href=\"https://wandb.ai/boostcamp-level01-04/age_kfold\" target=\"_blank\">https://wandb.ai/boostcamp-level01-04/age_kfold</a><br/>\n",
       "                Run page: <a href=\"https://wandb.ai/boostcamp-level01-04/age_kfold/runs/ey9royos\" target=\"_blank\">https://wandb.ai/boostcamp-level01-04/age_kfold/runs/ey9royos</a><br/>\n",
       "                Run data is saved locally in <code>/opt/ml/image-classification-level1-04/wandb/run-20210902_071905-ey9royos</code><br/><br/>\n",
       "            "
      ]
     },
     "metadata": {}
    },
    {
     "output_type": "stream",
     "name": "stderr",
     "text": [
      "train Epoch 0 : 100%|██████████| 125/125 [03:24<00:00,  1.64s/batch, acc=tensor(0.5000), loss=1.49]\n",
      "valid Epoch 0 :   3%|▎         | 1/32 [00:27<14:14, 27.56s/batch, acc=tensor(0.4375), loss=0.0106]\n"
     ]
    },
    {
     "output_type": "error",
     "ename": "RuntimeError",
     "evalue": "CUDA out of memory. Tried to allocate 864.00 MiB (GPU 0; 31.75 GiB total capacity; 24.88 GiB already allocated; 618.50 MiB free; 25.13 GiB reserved in total by PyTorch)",
     "traceback": [
      "\u001b[0;31m---------------------------------------------------------------------------\u001b[0m",
      "\u001b[0;31mRuntimeError\u001b[0m                              Traceback (most recent call last)",
      "\u001b[0;32m<ipython-input-12-b295912d9818>\u001b[0m in \u001b[0;36m<module>\u001b[0;34m\u001b[0m\n\u001b[1;32m     70\u001b[0m \u001b[0;34m\u001b[0m\u001b[0m\n\u001b[1;32m     71\u001b[0m                 \u001b[0moptimizer\u001b[0m\u001b[0;34m.\u001b[0m\u001b[0mzero_grad\u001b[0m\u001b[0;34m(\u001b[0m\u001b[0;34m)\u001b[0m\u001b[0;34m\u001b[0m\u001b[0;34m\u001b[0m\u001b[0m\n\u001b[0;32m---> 72\u001b[0;31m                 \u001b[0moutputs\u001b[0m \u001b[0;34m=\u001b[0m \u001b[0mmodel\u001b[0m\u001b[0;34m(\u001b[0m\u001b[0minputs\u001b[0m\u001b[0;34m)\u001b[0m\u001b[0;34m\u001b[0m\u001b[0;34m\u001b[0m\u001b[0m\n\u001b[0m\u001b[1;32m     73\u001b[0m                 \u001b[0mloss\u001b[0m \u001b[0;34m=\u001b[0m \u001b[0mcriterion\u001b[0m\u001b[0;34m(\u001b[0m\u001b[0moutputs\u001b[0m\u001b[0;34m,\u001b[0m \u001b[0mlabels\u001b[0m\u001b[0;34m)\u001b[0m\u001b[0;34m\u001b[0m\u001b[0;34m\u001b[0m\u001b[0m\n\u001b[1;32m     74\u001b[0m \u001b[0;34m\u001b[0m\u001b[0m\n",
      "\u001b[0;32m/opt/conda/lib/python3.8/site-packages/torch/nn/modules/module.py\u001b[0m in \u001b[0;36m_call_impl\u001b[0;34m(self, *input, **kwargs)\u001b[0m\n\u001b[1;32m    725\u001b[0m             \u001b[0mresult\u001b[0m \u001b[0;34m=\u001b[0m \u001b[0mself\u001b[0m\u001b[0;34m.\u001b[0m\u001b[0m_slow_forward\u001b[0m\u001b[0;34m(\u001b[0m\u001b[0;34m*\u001b[0m\u001b[0minput\u001b[0m\u001b[0;34m,\u001b[0m \u001b[0;34m**\u001b[0m\u001b[0mkwargs\u001b[0m\u001b[0;34m)\u001b[0m\u001b[0;34m\u001b[0m\u001b[0;34m\u001b[0m\u001b[0m\n\u001b[1;32m    726\u001b[0m         \u001b[0;32melse\u001b[0m\u001b[0;34m:\u001b[0m\u001b[0;34m\u001b[0m\u001b[0;34m\u001b[0m\u001b[0m\n\u001b[0;32m--> 727\u001b[0;31m             \u001b[0mresult\u001b[0m \u001b[0;34m=\u001b[0m \u001b[0mself\u001b[0m\u001b[0;34m.\u001b[0m\u001b[0mforward\u001b[0m\u001b[0;34m(\u001b[0m\u001b[0;34m*\u001b[0m\u001b[0minput\u001b[0m\u001b[0;34m,\u001b[0m \u001b[0;34m**\u001b[0m\u001b[0mkwargs\u001b[0m\u001b[0;34m)\u001b[0m\u001b[0;34m\u001b[0m\u001b[0;34m\u001b[0m\u001b[0m\n\u001b[0m\u001b[1;32m    728\u001b[0m         for hook in itertools.chain(\n\u001b[1;32m    729\u001b[0m                 \u001b[0m_global_forward_hooks\u001b[0m\u001b[0;34m.\u001b[0m\u001b[0mvalues\u001b[0m\u001b[0;34m(\u001b[0m\u001b[0;34m)\u001b[0m\u001b[0;34m,\u001b[0m\u001b[0;34m\u001b[0m\u001b[0;34m\u001b[0m\u001b[0m\n",
      "\u001b[0;32m<ipython-input-10-1af828096f99>\u001b[0m in \u001b[0;36mforward\u001b[0;34m(self, x)\u001b[0m\n\u001b[1;32m     27\u001b[0m \u001b[0;34m\u001b[0m\u001b[0m\n\u001b[1;32m     28\u001b[0m     \u001b[0;32mdef\u001b[0m \u001b[0mforward\u001b[0m\u001b[0;34m(\u001b[0m\u001b[0mself\u001b[0m\u001b[0;34m,\u001b[0m \u001b[0mx\u001b[0m\u001b[0;34m)\u001b[0m\u001b[0;34m:\u001b[0m\u001b[0;34m\u001b[0m\u001b[0;34m\u001b[0m\u001b[0m\n\u001b[0;32m---> 29\u001b[0;31m         \u001b[0;32mreturn\u001b[0m \u001b[0mself\u001b[0m\u001b[0;34m.\u001b[0m\u001b[0mmodel\u001b[0m\u001b[0;34m(\u001b[0m\u001b[0mx\u001b[0m\u001b[0;34m)\u001b[0m\u001b[0;34m\u001b[0m\u001b[0;34m\u001b[0m\u001b[0m\n\u001b[0m\u001b[1;32m     30\u001b[0m \u001b[0;34m\u001b[0m\u001b[0m\n\u001b[1;32m     31\u001b[0m \u001b[0;32mclass\u001b[0m \u001b[0mAgeNet\u001b[0m\u001b[0;34m(\u001b[0m\u001b[0mnn\u001b[0m\u001b[0;34m.\u001b[0m\u001b[0mModule\u001b[0m\u001b[0;34m)\u001b[0m\u001b[0;34m:\u001b[0m\u001b[0;34m\u001b[0m\u001b[0;34m\u001b[0m\u001b[0m\n",
      "\u001b[0;32m/opt/conda/lib/python3.8/site-packages/torch/nn/modules/module.py\u001b[0m in \u001b[0;36m_call_impl\u001b[0;34m(self, *input, **kwargs)\u001b[0m\n\u001b[1;32m    725\u001b[0m             \u001b[0mresult\u001b[0m \u001b[0;34m=\u001b[0m \u001b[0mself\u001b[0m\u001b[0;34m.\u001b[0m\u001b[0m_slow_forward\u001b[0m\u001b[0;34m(\u001b[0m\u001b[0;34m*\u001b[0m\u001b[0minput\u001b[0m\u001b[0;34m,\u001b[0m \u001b[0;34m**\u001b[0m\u001b[0mkwargs\u001b[0m\u001b[0;34m)\u001b[0m\u001b[0;34m\u001b[0m\u001b[0;34m\u001b[0m\u001b[0m\n\u001b[1;32m    726\u001b[0m         \u001b[0;32melse\u001b[0m\u001b[0;34m:\u001b[0m\u001b[0;34m\u001b[0m\u001b[0;34m\u001b[0m\u001b[0m\n\u001b[0;32m--> 727\u001b[0;31m             \u001b[0mresult\u001b[0m \u001b[0;34m=\u001b[0m \u001b[0mself\u001b[0m\u001b[0;34m.\u001b[0m\u001b[0mforward\u001b[0m\u001b[0;34m(\u001b[0m\u001b[0;34m*\u001b[0m\u001b[0minput\u001b[0m\u001b[0;34m,\u001b[0m \u001b[0;34m**\u001b[0m\u001b[0mkwargs\u001b[0m\u001b[0;34m)\u001b[0m\u001b[0;34m\u001b[0m\u001b[0;34m\u001b[0m\u001b[0m\n\u001b[0m\u001b[1;32m    728\u001b[0m         for hook in itertools.chain(\n\u001b[1;32m    729\u001b[0m                 \u001b[0m_global_forward_hooks\u001b[0m\u001b[0;34m.\u001b[0m\u001b[0mvalues\u001b[0m\u001b[0;34m(\u001b[0m\u001b[0;34m)\u001b[0m\u001b[0;34m,\u001b[0m\u001b[0;34m\u001b[0m\u001b[0;34m\u001b[0m\u001b[0m\n",
      "\u001b[0;32m/opt/conda/lib/python3.8/site-packages/timm/models/efficientnet.py\u001b[0m in \u001b[0;36mforward\u001b[0;34m(self, x)\u001b[0m\n\u001b[1;32m    475\u001b[0m \u001b[0;34m\u001b[0m\u001b[0m\n\u001b[1;32m    476\u001b[0m     \u001b[0;32mdef\u001b[0m \u001b[0mforward\u001b[0m\u001b[0;34m(\u001b[0m\u001b[0mself\u001b[0m\u001b[0;34m,\u001b[0m \u001b[0mx\u001b[0m\u001b[0;34m)\u001b[0m\u001b[0;34m:\u001b[0m\u001b[0;34m\u001b[0m\u001b[0;34m\u001b[0m\u001b[0m\n\u001b[0;32m--> 477\u001b[0;31m         \u001b[0mx\u001b[0m \u001b[0;34m=\u001b[0m \u001b[0mself\u001b[0m\u001b[0;34m.\u001b[0m\u001b[0mforward_features\u001b[0m\u001b[0;34m(\u001b[0m\u001b[0mx\u001b[0m\u001b[0;34m)\u001b[0m\u001b[0;34m\u001b[0m\u001b[0;34m\u001b[0m\u001b[0m\n\u001b[0m\u001b[1;32m    478\u001b[0m         \u001b[0mx\u001b[0m \u001b[0;34m=\u001b[0m \u001b[0mself\u001b[0m\u001b[0;34m.\u001b[0m\u001b[0mglobal_pool\u001b[0m\u001b[0;34m(\u001b[0m\u001b[0mx\u001b[0m\u001b[0;34m)\u001b[0m\u001b[0;34m\u001b[0m\u001b[0;34m\u001b[0m\u001b[0m\n\u001b[1;32m    479\u001b[0m         \u001b[0;32mif\u001b[0m \u001b[0mself\u001b[0m\u001b[0;34m.\u001b[0m\u001b[0mdrop_rate\u001b[0m \u001b[0;34m>\u001b[0m \u001b[0;36m0.\u001b[0m\u001b[0;34m:\u001b[0m\u001b[0;34m\u001b[0m\u001b[0;34m\u001b[0m\u001b[0m\n",
      "\u001b[0;32m/opt/conda/lib/python3.8/site-packages/timm/models/efficientnet.py\u001b[0m in \u001b[0;36mforward_features\u001b[0;34m(self, x)\u001b[0m\n\u001b[1;32m    468\u001b[0m         \u001b[0mx\u001b[0m \u001b[0;34m=\u001b[0m \u001b[0mself\u001b[0m\u001b[0;34m.\u001b[0m\u001b[0mbn1\u001b[0m\u001b[0;34m(\u001b[0m\u001b[0mx\u001b[0m\u001b[0;34m)\u001b[0m\u001b[0;34m\u001b[0m\u001b[0;34m\u001b[0m\u001b[0m\n\u001b[1;32m    469\u001b[0m         \u001b[0mx\u001b[0m \u001b[0;34m=\u001b[0m \u001b[0mself\u001b[0m\u001b[0;34m.\u001b[0m\u001b[0mact1\u001b[0m\u001b[0;34m(\u001b[0m\u001b[0mx\u001b[0m\u001b[0;34m)\u001b[0m\u001b[0;34m\u001b[0m\u001b[0;34m\u001b[0m\u001b[0m\n\u001b[0;32m--> 470\u001b[0;31m         \u001b[0mx\u001b[0m \u001b[0;34m=\u001b[0m \u001b[0mself\u001b[0m\u001b[0;34m.\u001b[0m\u001b[0mblocks\u001b[0m\u001b[0;34m(\u001b[0m\u001b[0mx\u001b[0m\u001b[0;34m)\u001b[0m\u001b[0;34m\u001b[0m\u001b[0;34m\u001b[0m\u001b[0m\n\u001b[0m\u001b[1;32m    471\u001b[0m         \u001b[0mx\u001b[0m \u001b[0;34m=\u001b[0m \u001b[0mself\u001b[0m\u001b[0;34m.\u001b[0m\u001b[0mconv_head\u001b[0m\u001b[0;34m(\u001b[0m\u001b[0mx\u001b[0m\u001b[0;34m)\u001b[0m\u001b[0;34m\u001b[0m\u001b[0;34m\u001b[0m\u001b[0m\n\u001b[1;32m    472\u001b[0m         \u001b[0mx\u001b[0m \u001b[0;34m=\u001b[0m \u001b[0mself\u001b[0m\u001b[0;34m.\u001b[0m\u001b[0mbn2\u001b[0m\u001b[0;34m(\u001b[0m\u001b[0mx\u001b[0m\u001b[0;34m)\u001b[0m\u001b[0;34m\u001b[0m\u001b[0;34m\u001b[0m\u001b[0m\n",
      "\u001b[0;32m/opt/conda/lib/python3.8/site-packages/torch/nn/modules/module.py\u001b[0m in \u001b[0;36m_call_impl\u001b[0;34m(self, *input, **kwargs)\u001b[0m\n\u001b[1;32m    725\u001b[0m             \u001b[0mresult\u001b[0m \u001b[0;34m=\u001b[0m \u001b[0mself\u001b[0m\u001b[0;34m.\u001b[0m\u001b[0m_slow_forward\u001b[0m\u001b[0;34m(\u001b[0m\u001b[0;34m*\u001b[0m\u001b[0minput\u001b[0m\u001b[0;34m,\u001b[0m \u001b[0;34m**\u001b[0m\u001b[0mkwargs\u001b[0m\u001b[0;34m)\u001b[0m\u001b[0;34m\u001b[0m\u001b[0;34m\u001b[0m\u001b[0m\n\u001b[1;32m    726\u001b[0m         \u001b[0;32melse\u001b[0m\u001b[0;34m:\u001b[0m\u001b[0;34m\u001b[0m\u001b[0;34m\u001b[0m\u001b[0m\n\u001b[0;32m--> 727\u001b[0;31m             \u001b[0mresult\u001b[0m \u001b[0;34m=\u001b[0m \u001b[0mself\u001b[0m\u001b[0;34m.\u001b[0m\u001b[0mforward\u001b[0m\u001b[0;34m(\u001b[0m\u001b[0;34m*\u001b[0m\u001b[0minput\u001b[0m\u001b[0;34m,\u001b[0m \u001b[0;34m**\u001b[0m\u001b[0mkwargs\u001b[0m\u001b[0;34m)\u001b[0m\u001b[0;34m\u001b[0m\u001b[0;34m\u001b[0m\u001b[0m\n\u001b[0m\u001b[1;32m    728\u001b[0m         for hook in itertools.chain(\n\u001b[1;32m    729\u001b[0m                 \u001b[0m_global_forward_hooks\u001b[0m\u001b[0;34m.\u001b[0m\u001b[0mvalues\u001b[0m\u001b[0;34m(\u001b[0m\u001b[0;34m)\u001b[0m\u001b[0;34m,\u001b[0m\u001b[0;34m\u001b[0m\u001b[0;34m\u001b[0m\u001b[0m\n",
      "\u001b[0;32m/opt/conda/lib/python3.8/site-packages/torch/nn/modules/container.py\u001b[0m in \u001b[0;36mforward\u001b[0;34m(self, input)\u001b[0m\n\u001b[1;32m    115\u001b[0m     \u001b[0;32mdef\u001b[0m \u001b[0mforward\u001b[0m\u001b[0;34m(\u001b[0m\u001b[0mself\u001b[0m\u001b[0;34m,\u001b[0m \u001b[0minput\u001b[0m\u001b[0;34m)\u001b[0m\u001b[0;34m:\u001b[0m\u001b[0;34m\u001b[0m\u001b[0;34m\u001b[0m\u001b[0m\n\u001b[1;32m    116\u001b[0m         \u001b[0;32mfor\u001b[0m \u001b[0mmodule\u001b[0m \u001b[0;32min\u001b[0m \u001b[0mself\u001b[0m\u001b[0;34m:\u001b[0m\u001b[0;34m\u001b[0m\u001b[0;34m\u001b[0m\u001b[0m\n\u001b[0;32m--> 117\u001b[0;31m             \u001b[0minput\u001b[0m \u001b[0;34m=\u001b[0m \u001b[0mmodule\u001b[0m\u001b[0;34m(\u001b[0m\u001b[0minput\u001b[0m\u001b[0;34m)\u001b[0m\u001b[0;34m\u001b[0m\u001b[0;34m\u001b[0m\u001b[0m\n\u001b[0m\u001b[1;32m    118\u001b[0m         \u001b[0;32mreturn\u001b[0m \u001b[0minput\u001b[0m\u001b[0;34m\u001b[0m\u001b[0;34m\u001b[0m\u001b[0m\n\u001b[1;32m    119\u001b[0m \u001b[0;34m\u001b[0m\u001b[0m\n",
      "\u001b[0;32m/opt/conda/lib/python3.8/site-packages/torch/nn/modules/module.py\u001b[0m in \u001b[0;36m_call_impl\u001b[0;34m(self, *input, **kwargs)\u001b[0m\n\u001b[1;32m    725\u001b[0m             \u001b[0mresult\u001b[0m \u001b[0;34m=\u001b[0m \u001b[0mself\u001b[0m\u001b[0;34m.\u001b[0m\u001b[0m_slow_forward\u001b[0m\u001b[0;34m(\u001b[0m\u001b[0;34m*\u001b[0m\u001b[0minput\u001b[0m\u001b[0;34m,\u001b[0m \u001b[0;34m**\u001b[0m\u001b[0mkwargs\u001b[0m\u001b[0;34m)\u001b[0m\u001b[0;34m\u001b[0m\u001b[0;34m\u001b[0m\u001b[0m\n\u001b[1;32m    726\u001b[0m         \u001b[0;32melse\u001b[0m\u001b[0;34m:\u001b[0m\u001b[0;34m\u001b[0m\u001b[0;34m\u001b[0m\u001b[0m\n\u001b[0;32m--> 727\u001b[0;31m             \u001b[0mresult\u001b[0m \u001b[0;34m=\u001b[0m \u001b[0mself\u001b[0m\u001b[0;34m.\u001b[0m\u001b[0mforward\u001b[0m\u001b[0;34m(\u001b[0m\u001b[0;34m*\u001b[0m\u001b[0minput\u001b[0m\u001b[0;34m,\u001b[0m \u001b[0;34m**\u001b[0m\u001b[0mkwargs\u001b[0m\u001b[0;34m)\u001b[0m\u001b[0;34m\u001b[0m\u001b[0;34m\u001b[0m\u001b[0m\n\u001b[0m\u001b[1;32m    728\u001b[0m         for hook in itertools.chain(\n\u001b[1;32m    729\u001b[0m                 \u001b[0m_global_forward_hooks\u001b[0m\u001b[0;34m.\u001b[0m\u001b[0mvalues\u001b[0m\u001b[0;34m(\u001b[0m\u001b[0;34m)\u001b[0m\u001b[0;34m,\u001b[0m\u001b[0;34m\u001b[0m\u001b[0;34m\u001b[0m\u001b[0m\n",
      "\u001b[0;32m/opt/conda/lib/python3.8/site-packages/torch/nn/modules/container.py\u001b[0m in \u001b[0;36mforward\u001b[0;34m(self, input)\u001b[0m\n\u001b[1;32m    115\u001b[0m     \u001b[0;32mdef\u001b[0m \u001b[0mforward\u001b[0m\u001b[0;34m(\u001b[0m\u001b[0mself\u001b[0m\u001b[0;34m,\u001b[0m \u001b[0minput\u001b[0m\u001b[0;34m)\u001b[0m\u001b[0;34m:\u001b[0m\u001b[0;34m\u001b[0m\u001b[0;34m\u001b[0m\u001b[0m\n\u001b[1;32m    116\u001b[0m         \u001b[0;32mfor\u001b[0m \u001b[0mmodule\u001b[0m \u001b[0;32min\u001b[0m \u001b[0mself\u001b[0m\u001b[0;34m:\u001b[0m\u001b[0;34m\u001b[0m\u001b[0;34m\u001b[0m\u001b[0m\n\u001b[0;32m--> 117\u001b[0;31m             \u001b[0minput\u001b[0m \u001b[0;34m=\u001b[0m \u001b[0mmodule\u001b[0m\u001b[0;34m(\u001b[0m\u001b[0minput\u001b[0m\u001b[0;34m)\u001b[0m\u001b[0;34m\u001b[0m\u001b[0;34m\u001b[0m\u001b[0m\n\u001b[0m\u001b[1;32m    118\u001b[0m         \u001b[0;32mreturn\u001b[0m \u001b[0minput\u001b[0m\u001b[0;34m\u001b[0m\u001b[0;34m\u001b[0m\u001b[0m\n\u001b[1;32m    119\u001b[0m \u001b[0;34m\u001b[0m\u001b[0m\n",
      "\u001b[0;32m/opt/conda/lib/python3.8/site-packages/torch/nn/modules/module.py\u001b[0m in \u001b[0;36m_call_impl\u001b[0;34m(self, *input, **kwargs)\u001b[0m\n\u001b[1;32m    725\u001b[0m             \u001b[0mresult\u001b[0m \u001b[0;34m=\u001b[0m \u001b[0mself\u001b[0m\u001b[0;34m.\u001b[0m\u001b[0m_slow_forward\u001b[0m\u001b[0;34m(\u001b[0m\u001b[0;34m*\u001b[0m\u001b[0minput\u001b[0m\u001b[0;34m,\u001b[0m \u001b[0;34m**\u001b[0m\u001b[0mkwargs\u001b[0m\u001b[0;34m)\u001b[0m\u001b[0;34m\u001b[0m\u001b[0;34m\u001b[0m\u001b[0m\n\u001b[1;32m    726\u001b[0m         \u001b[0;32melse\u001b[0m\u001b[0;34m:\u001b[0m\u001b[0;34m\u001b[0m\u001b[0;34m\u001b[0m\u001b[0m\n\u001b[0;32m--> 727\u001b[0;31m             \u001b[0mresult\u001b[0m \u001b[0;34m=\u001b[0m \u001b[0mself\u001b[0m\u001b[0;34m.\u001b[0m\u001b[0mforward\u001b[0m\u001b[0;34m(\u001b[0m\u001b[0;34m*\u001b[0m\u001b[0minput\u001b[0m\u001b[0;34m,\u001b[0m \u001b[0;34m**\u001b[0m\u001b[0mkwargs\u001b[0m\u001b[0;34m)\u001b[0m\u001b[0;34m\u001b[0m\u001b[0;34m\u001b[0m\u001b[0m\n\u001b[0m\u001b[1;32m    728\u001b[0m         for hook in itertools.chain(\n\u001b[1;32m    729\u001b[0m                 \u001b[0m_global_forward_hooks\u001b[0m\u001b[0;34m.\u001b[0m\u001b[0mvalues\u001b[0m\u001b[0;34m(\u001b[0m\u001b[0;34m)\u001b[0m\u001b[0;34m,\u001b[0m\u001b[0;34m\u001b[0m\u001b[0;34m\u001b[0m\u001b[0m\n",
      "\u001b[0;32m/opt/conda/lib/python3.8/site-packages/timm/models/efficientnet_blocks.py\u001b[0m in \u001b[0;36mforward\u001b[0;34m(self, x)\u001b[0m\n\u001b[1;32m    183\u001b[0m \u001b[0;34m\u001b[0m\u001b[0m\n\u001b[1;32m    184\u001b[0m         \u001b[0;31m# Point-wise expansion\u001b[0m\u001b[0;34m\u001b[0m\u001b[0;34m\u001b[0m\u001b[0;34m\u001b[0m\u001b[0m\n\u001b[0;32m--> 185\u001b[0;31m         \u001b[0mx\u001b[0m \u001b[0;34m=\u001b[0m \u001b[0mself\u001b[0m\u001b[0;34m.\u001b[0m\u001b[0mconv_pw\u001b[0m\u001b[0;34m(\u001b[0m\u001b[0mx\u001b[0m\u001b[0;34m)\u001b[0m\u001b[0;34m\u001b[0m\u001b[0;34m\u001b[0m\u001b[0m\n\u001b[0m\u001b[1;32m    186\u001b[0m         \u001b[0mx\u001b[0m \u001b[0;34m=\u001b[0m \u001b[0mself\u001b[0m\u001b[0;34m.\u001b[0m\u001b[0mbn1\u001b[0m\u001b[0;34m(\u001b[0m\u001b[0mx\u001b[0m\u001b[0;34m)\u001b[0m\u001b[0;34m\u001b[0m\u001b[0;34m\u001b[0m\u001b[0m\n\u001b[1;32m    187\u001b[0m         \u001b[0mx\u001b[0m \u001b[0;34m=\u001b[0m \u001b[0mself\u001b[0m\u001b[0;34m.\u001b[0m\u001b[0mact1\u001b[0m\u001b[0;34m(\u001b[0m\u001b[0mx\u001b[0m\u001b[0;34m)\u001b[0m\u001b[0;34m\u001b[0m\u001b[0;34m\u001b[0m\u001b[0m\n",
      "\u001b[0;32m/opt/conda/lib/python3.8/site-packages/torch/nn/modules/module.py\u001b[0m in \u001b[0;36m_call_impl\u001b[0;34m(self, *input, **kwargs)\u001b[0m\n\u001b[1;32m    725\u001b[0m             \u001b[0mresult\u001b[0m \u001b[0;34m=\u001b[0m \u001b[0mself\u001b[0m\u001b[0;34m.\u001b[0m\u001b[0m_slow_forward\u001b[0m\u001b[0;34m(\u001b[0m\u001b[0;34m*\u001b[0m\u001b[0minput\u001b[0m\u001b[0;34m,\u001b[0m \u001b[0;34m**\u001b[0m\u001b[0mkwargs\u001b[0m\u001b[0;34m)\u001b[0m\u001b[0;34m\u001b[0m\u001b[0;34m\u001b[0m\u001b[0m\n\u001b[1;32m    726\u001b[0m         \u001b[0;32melse\u001b[0m\u001b[0;34m:\u001b[0m\u001b[0;34m\u001b[0m\u001b[0;34m\u001b[0m\u001b[0m\n\u001b[0;32m--> 727\u001b[0;31m             \u001b[0mresult\u001b[0m \u001b[0;34m=\u001b[0m \u001b[0mself\u001b[0m\u001b[0;34m.\u001b[0m\u001b[0mforward\u001b[0m\u001b[0;34m(\u001b[0m\u001b[0;34m*\u001b[0m\u001b[0minput\u001b[0m\u001b[0;34m,\u001b[0m \u001b[0;34m**\u001b[0m\u001b[0mkwargs\u001b[0m\u001b[0;34m)\u001b[0m\u001b[0;34m\u001b[0m\u001b[0;34m\u001b[0m\u001b[0m\n\u001b[0m\u001b[1;32m    728\u001b[0m         for hook in itertools.chain(\n\u001b[1;32m    729\u001b[0m                 \u001b[0m_global_forward_hooks\u001b[0m\u001b[0;34m.\u001b[0m\u001b[0mvalues\u001b[0m\u001b[0;34m(\u001b[0m\u001b[0;34m)\u001b[0m\u001b[0;34m,\u001b[0m\u001b[0;34m\u001b[0m\u001b[0;34m\u001b[0m\u001b[0m\n",
      "\u001b[0;32m/opt/conda/lib/python3.8/site-packages/torch/nn/modules/conv.py\u001b[0m in \u001b[0;36mforward\u001b[0;34m(self, input)\u001b[0m\n\u001b[1;32m    421\u001b[0m \u001b[0;34m\u001b[0m\u001b[0m\n\u001b[1;32m    422\u001b[0m     \u001b[0;32mdef\u001b[0m \u001b[0mforward\u001b[0m\u001b[0;34m(\u001b[0m\u001b[0mself\u001b[0m\u001b[0;34m,\u001b[0m \u001b[0minput\u001b[0m\u001b[0;34m:\u001b[0m \u001b[0mTensor\u001b[0m\u001b[0;34m)\u001b[0m \u001b[0;34m->\u001b[0m \u001b[0mTensor\u001b[0m\u001b[0;34m:\u001b[0m\u001b[0;34m\u001b[0m\u001b[0;34m\u001b[0m\u001b[0m\n\u001b[0;32m--> 423\u001b[0;31m         \u001b[0;32mreturn\u001b[0m \u001b[0mself\u001b[0m\u001b[0;34m.\u001b[0m\u001b[0m_conv_forward\u001b[0m\u001b[0;34m(\u001b[0m\u001b[0minput\u001b[0m\u001b[0;34m,\u001b[0m \u001b[0mself\u001b[0m\u001b[0;34m.\u001b[0m\u001b[0mweight\u001b[0m\u001b[0;34m)\u001b[0m\u001b[0;34m\u001b[0m\u001b[0;34m\u001b[0m\u001b[0m\n\u001b[0m\u001b[1;32m    424\u001b[0m \u001b[0;34m\u001b[0m\u001b[0m\n\u001b[1;32m    425\u001b[0m \u001b[0;32mclass\u001b[0m \u001b[0mConv3d\u001b[0m\u001b[0;34m(\u001b[0m\u001b[0m_ConvNd\u001b[0m\u001b[0;34m)\u001b[0m\u001b[0;34m:\u001b[0m\u001b[0;34m\u001b[0m\u001b[0;34m\u001b[0m\u001b[0m\n",
      "\u001b[0;32m/opt/conda/lib/python3.8/site-packages/torch/nn/modules/conv.py\u001b[0m in \u001b[0;36m_conv_forward\u001b[0;34m(self, input, weight)\u001b[0m\n\u001b[1;32m    417\u001b[0m                             \u001b[0mweight\u001b[0m\u001b[0;34m,\u001b[0m \u001b[0mself\u001b[0m\u001b[0;34m.\u001b[0m\u001b[0mbias\u001b[0m\u001b[0;34m,\u001b[0m \u001b[0mself\u001b[0m\u001b[0;34m.\u001b[0m\u001b[0mstride\u001b[0m\u001b[0;34m,\u001b[0m\u001b[0;34m\u001b[0m\u001b[0;34m\u001b[0m\u001b[0m\n\u001b[1;32m    418\u001b[0m                             _pair(0), self.dilation, self.groups)\n\u001b[0;32m--> 419\u001b[0;31m         return F.conv2d(input, weight, self.bias, self.stride,\n\u001b[0m\u001b[1;32m    420\u001b[0m                         self.padding, self.dilation, self.groups)\n\u001b[1;32m    421\u001b[0m \u001b[0;34m\u001b[0m\u001b[0m\n",
      "\u001b[0;31mRuntimeError\u001b[0m: CUDA out of memory. Tried to allocate 864.00 MiB (GPU 0; 31.75 GiB total capacity; 24.88 GiB already allocated; 618.50 MiB free; 25.13 GiB reserved in total by PyTorch)"
     ]
    }
   ],
   "metadata": {}
  },
  {
   "cell_type": "markdown",
   "source": [
    "# 4. 추론"
   ],
   "metadata": {}
  },
  {
   "cell_type": "code",
   "execution_count": null,
   "source": [
    "class TestDataset(Dataset):\n",
    "    def __init__(self, img_paths, transform):\n",
    "        self.img_paths = img_paths\n",
    "        self.transform = transform\n",
    "\n",
    "    def __getitem__(self, index):\n",
    "        image = PIL.Image.open(self.img_paths[index])\n",
    "        image = np.array(image.convert(\"RGB\"))\n",
    "        if self.transform:\n",
    "            image = self.transform(image=image)\n",
    "            image = image['image']\n",
    "        return image\n",
    "\n",
    "    def __len__(self):\n",
    "        return len(self.img_paths)"
   ],
   "outputs": [],
   "metadata": {}
  },
  {
   "cell_type": "code",
   "execution_count": null,
   "source": [
    "model.load_state_dict(torch.load('/opt/ml/image-classification-level1-04/saved/models/PretrainModelTimm_ViT_base/0901_064031/checkpoint-epoch14.pth')['state_dict'])"
   ],
   "outputs": [
    {
     "output_type": "execute_result",
     "data": {
      "text/plain": [
       "<All keys matched successfully>"
      ]
     },
     "metadata": {},
     "execution_count": 17
    }
   ],
   "metadata": {}
  },
  {
   "cell_type": "code",
   "execution_count": null,
   "source": [
    "submission = pd.read_csv(os.path.join(test_dir, 'info.csv'))\n",
    "image_dir = os.path.join(test_dir, 'new_images')\n",
    "\n",
    "image_paths = [os.path.join(image_dir, img_id) for img_id in submission.ImageID]\n",
    "dataset = TestDataset(image_paths, A_transform['VIT_test'])\n",
    "test_loader = DataLoader(dataset, batch_size=batch_size, shuffle=False, num_workers=8)\n",
    "\n",
    "model.eval()\n",
    "all_predictions = []\n",
    "with tqdm(test_loader, total=test_loader.__len__(), unit=\"batch\") as test_bar:\n",
    "    for images in test_bar:\n",
    "        with torch.no_grad():\n",
    "            images = images.to(device)\n",
    "            pred = model(images)\n",
    "            pred = pred.argmax(dim=-1)\n",
    "            all_predictions.extend(pred.cpu().numpy())\n",
    "    \n",
    "submission['ans'] = all_predictions\n",
    "submission.to_csv(os.path.join(test_dir, 'submission_vit_0901_064031_14.csv'), index=False)\n",
    "print('test inference is done!')"
   ],
   "outputs": [
    {
     "output_type": "stream",
     "name": "stderr",
     "text": [
      "100%|██████████| 788/788 [02:39<00:00,  4.95batch/s]\n"
     ]
    },
    {
     "output_type": "stream",
     "name": "stdout",
     "text": [
      "test inference is done!\n"
     ]
    }
   ],
   "metadata": {}
  },
  {
   "cell_type": "markdown",
   "source": [
    "# 5. 제출"
   ],
   "metadata": {}
  },
  {
   "cell_type": "markdown",
   "source": [
    "## 5.1 K-Fold 제출"
   ],
   "metadata": {}
  },
  {
   "cell_type": "code",
   "execution_count": null,
   "source": [
    "import numpy as np\n",
    "import pandas as pd\n",
    "import torch.nn.functional as F\n",
    "from glob import glob \n",
    "\n",
    "def kfold_model(folder_path):\n",
    "    # last checkpoint\n",
    "    k_fold_paths = {}\n",
    "    for path in sorted(glob.glob(os.path.join(folder_path, '*'))):\n",
    "        fold_number = path.split('kfold')[-1][0]\n",
    "        k_fold_paths[fold_number] = path\n",
    "    return k_fold_paths\n",
    "\n",
    "def make_model(model_name='efficientnet_b3', num_classes=18):\n",
    "    return ENN_Model(model_name, num_classes).to(device)\n",
    "\n",
    "\n",
    "submission = pd.read_csv(os.path.join(test_dir, 'info.csv'))\n",
    "image_dir = os.path.join(test_dir, 'new_images')\n",
    "image_paths = [os.path.join(image_dir, img_id) for img_id in submission.ImageID]\n",
    "ratio = 1/5\n",
    "\n",
    "# Submit dataset\n",
    "dataset = TestDataset(image_paths, A_transform['ENN_test']) # \n",
    "test_loader = DataLoader(dataset, batch_size=batch_size, shuffle=False)\n",
    "n_last_samples = len(test_loader.dataset) - (len(test_loader) - 1) * batch_size\n",
    "\n",
    "k_fold_paths = kfold_model('/opt/ml/image-classification-level1-04/saved/models/20210901_154638')\n",
    "\n",
    "predictions_list = []\n",
    "for n_fold, path in k_fold_paths.items():\n",
    "    prediction_array=np.zeros((12600,18))\n",
    "    idx=0\n",
    "    model_n = make_model()\n",
    "    model_n.load_state_dict(torch.load(path))\n",
    "\n",
    "    prediction_array=np.zeros((12600,18))\n",
    "    idx=0\n",
    "    with tqdm(test_loader, total=test_loader.__len__(), unit=\"batch\") as test_bar:\n",
    "        for images in test_bar:            \n",
    "            with torch.no_grad():\n",
    "                images = images.to(device)\n",
    "                pred = model(images)\n",
    "                pred=F.softmax(pred,dim=-1)\n",
    "                #print(pred.sum(axis=1))\n",
    "                pred=pred*ratio\n",
    "                #pred = pred.argmax(dim=-1)\n",
    "                #print(pred.sum(axis=1))\n",
    "                pred = pred.tolist()\n",
    "                batch_idx = batch_size * idx\n",
    "               \n",
    "                if (idx+1) == len(test_loader):\n",
    "                    prediction_array[batch_idx:batch_idx + n_last_samples,:] = pred\n",
    "                else :\n",
    "                    prediction_array[batch_idx:batch_idx + batch_size, :] = pred\n",
    "                idx+=1\n",
    "    predictions_list.append(prediction_array[..., np.newaxis])\n",
    "        \n",
    "#print(predictions_list[0].sum(axis=-1))\n",
    "predictions_array = np.concatenate(predictions_list, axis = 2)\n",
    "print(predictions_array.shape)\n",
    "predictions_mean = predictions_array.sum(axis = 2)\n",
    "print(predictions_mean.shape)\n",
    "\n",
    "submission['ans'] = predictions_mean\n",
    "submission.to_csv(os.path.join(test_dir, 'submission_kfold.csv'), index=False)\n",
    "print('test inference is done!')"
   ],
   "outputs": [],
   "metadata": {}
  },
  {
   "cell_type": "markdown",
   "source": [
    "## 5.2 Soft Voting"
   ],
   "metadata": {}
  },
  {
   "cell_type": "code",
   "execution_count": null,
   "source": [
    "import numpy as np\n",
    "import pandas as pd\n",
    "import torch.nn.functional as F\n",
    "\n",
    "model_num1 = VIT_Model('vit_base_patch16_384', 18).to(device)\n",
    "model_num1.load_state_dict(torch.load('/opt/ml/image-classification-level1-04/saved/models/PretrainModelTimm_ViT_base/0901_064031/checkpoint-epoch8.pth')['state_dict'])\n",
    "model_num2 = VIT_Model(\"vit_base_patch16_384\", 18).to(device)\n",
    "model_num2.load_state_dict(torch.load('/opt/ml/image-classification-level1-04/saved/models/PretrainModelTimm_ViT_base/0901_064031/checkpoint-epoch13.pth')['state_dict'])\n",
    "model_num3 = ENN_Model(\"vit_base_patch16_384\", 18).to(device)\n",
    "model_num3.load_state_dict(torch.load('/opt/ml/image-classification-level1-04/saved/models/PretrainModelTimm_ViT_base/0901_064031/checkpoint-epoch14.pth')['state_dict'])\n",
    "\n",
    "submission = pd.read_csv(os.path.join(test_dir, 'info.csv'))\n",
    "image_dir = os.path.join(test_dir, 'new_images')\n",
    "image_paths = [os.path.join(image_dir, img_id) for img_id in submission.ImageID]\n",
    "\n",
    "best_models=[model_num1,model_num2,model_num3] \n",
    "test_idx=['VIT_test','VIT_test','VIT_test']\n",
    "ratio=[0.3,0.4,0.3]\n",
    "\n",
    "predictions_list = []\n",
    "for i,model in enumerate(best_models):\n",
    "    dataset = TestDataset(image_paths, A_transform[test_idx[i]])\n",
    "    test_loader = DataLoader(dataset, batch_size=batch_size, shuffle=False, num_workers=8)\n",
    "    prediction_array=np.zeros((12600,18))\n",
    "    idx=0\n",
    "    with tqdm(test_loader, total=test_loader.__len__(), unit=\"batch\") as test_bar:\n",
    "        for images in test_bar:            \n",
    "            with torch.no_grad():\n",
    "                images = images.to(device)\n",
    "                pred = model(images)\n",
    "                pred=F.softmax(pred,dim=-1)\n",
    "                #print(pred.sum(axis=1))\n",
    "                pred=pred*ratio[i]\n",
    "                #pred = pred.argmax(dim=-1)\n",
    "                #print(pred.sum(axis=1))\n",
    "                pred = pred.tolist()\n",
    "                batch_idx = batch_size * idx\n",
    "               \n",
    "                if (idx+1) == len(test_loader):\n",
    "                    prediction_array[batch_idx:batch_idx + 8,:] = pred\n",
    "                else :\n",
    "                    prediction_array[batch_idx:batch_idx + 16, :] = pred\n",
    "                idx+=1\n",
    "    predictions_list.append(prediction_array[..., np.newaxis])\n",
    "        \n",
    "#print(predictions_list[0].sum(axis=-1))\n",
    "predictions_array = np.concatenate(predictions_list, axis = 2)\n",
    "print(predictions_array.shape)\n",
    "predictions_mean = predictions_array.sum(axis = 2)\n",
    "predictions = np.argmax(predictions_mean, axis = 1)\n",
    "print(predictions_mean.shape)\n",
    "\n",
    "submission['ans'] = predictions\n",
    "submission.to_csv(os.path.join(test_dir, 'submission_ensemble.csv'), index=False)\n",
    "print('test inference is done!')"
   ],
   "outputs": [],
   "metadata": {}
  },
  {
   "cell_type": "code",
   "execution_count": null,
   "source": [
    "#df_submit1 = pd.DataFrame(predictions_mean,columns=['ans'])\n",
    "df_submit3 = pd.read_csv('/opt/ml/input/data/eval/submission_vit_0901_064031_3.csv')\n",
    "df_submit6 = pd.read_csv('/opt/ml/input/data/eval/submission_vit_0901_064031_6.csv')\n",
    "df_submit18 = pd.read_csv('/opt/ml/input/data/eval/submission_vit_0901_064031_8.csv')\n",
    "df_submit11 = pd.read_csv('/opt/ml/input/data/eval/submission_vit_0901_064031_11.csv')\n",
    "df_submit12 = pd.read_csv('/opt/ml/input/data/eval/submission_vit_0901_064031_12.csv')\n",
    "df_submit13 = pd.read_csv('/opt/ml/input/data/eval/submission_vit_0901_064031_13.csv')\n",
    "df_submit14 = pd.read_csv('/opt/ml/input/data/eval/submission_vit_0901_064031_4.csv')\n",
    "df_submit = pd.read_csv('/opt/ml/input/data/eval/submission_ml_image-classification-level1-04_saved_models_PretrainModelTimm_ViT_large_0826_155755_checkpoint-epoch9.pth.csv')\n",
    "print((df_submit12.ans == df_submit14.ans).mean())"
   ],
   "outputs": [
    {
     "output_type": "stream",
     "name": "stdout",
     "text": [
      "0.9275396825396826\n"
     ]
    }
   ],
   "metadata": {}
  },
  {
   "cell_type": "markdown",
   "source": [
    "## 5.3 Hard Voting"
   ],
   "metadata": {}
  },
  {
   "cell_type": "code",
   "execution_count": null,
   "source": [
    "df_submit6 = pd.read_csv('/opt/ml/input/data/eval/submission_vit_0901_064031_6.csv')\n",
    "df_submit8 = pd.read_csv('/opt/ml/input/data/eval/submission_vit_0901_064031_12.csv')\n",
    "df_submit13 = pd.read_csv('/opt/ml/input/data/eval/submission_vit_0901_064031_13.csv')\n",
    "df = pd.DataFrame([df_submit8['ans'], df_submit13['ans'], df_submit14['ans']])\n",
    "df"
   ],
   "outputs": [],
   "metadata": {}
  },
  {
   "cell_type": "code",
   "execution_count": null,
   "source": [],
   "outputs": [],
   "metadata": {}
  }
 ],
 "metadata": {
  "interpreter": {
   "hash": "98b0a9b7b4eaaa670588a142fd0a9b87eaafe866f1db4228be72b4211d12040f"
  },
  "kernelspec": {
   "name": "python3",
   "display_name": "Python 3.8.5 64-bit ('base': conda)"
  },
  "language_info": {
   "codemirror_mode": {
    "name": "ipython",
    "version": 3
   },
   "file_extension": ".py",
   "mimetype": "text/x-python",
   "name": "python",
   "nbconvert_exporter": "python",
   "pygments_lexer": "ipython3",
   "version": "3.8.5"
  }
 },
 "nbformat": 4,
 "nbformat_minor": 4
}