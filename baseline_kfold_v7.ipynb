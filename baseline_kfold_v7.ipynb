{
 "cells": [
  {
   "cell_type": "code",
   "execution_count": 1,
   "metadata": {},
   "outputs": [],
   "source": [
    "import csv\n",
    "import glob\n",
    "import pandas as pd\n",
    "import numpy as np\n",
    "import PIL\n",
    "import cv2\n",
    "\n",
    "import torch\n",
    "import torch.nn as nn\n",
    "import torch.nn.functional as F\n",
    "from torch.utils.data import Dataset\n",
    "from torch.utils.data.dataloader import DataLoader\n",
    "\n",
    "import timm\n",
    "import albumentations as A\n",
    "from albumentations.pytorch import ToTensorV2\n",
    "from sklearn.model_selection import train_test_split\n",
    "from tqdm import tqdm\n",
    "import copy\n",
    "import os\n",
    "import wandb\n",
    "import time\n",
    "import parse_config"
   ]
  },
  {
   "cell_type": "code",
   "execution_count": null,
   "metadata": {},
   "outputs": [],
   "source": [
    "# fix random seeds for reproducibility\n",
    "SEED = 123\n",
    "torch.manual_seed(SEED)\n",
    "torch.backends.cudnn.deterministic = True\n",
    "torch.backends.cudnn.benchmark = False\n",
    "np.random.seed(SEED)"
   ]
  },
  {
   "cell_type": "markdown",
   "metadata": {},
   "source": [
    "# 1. 데이터 로드"
   ]
  },
  {
   "cell_type": "code",
   "execution_count": 2,
   "metadata": {},
   "outputs": [],
   "source": [
    "train_dir = '/opt/ml/input/data/train'\n",
    "test_dir = '/opt/ml/input/data/eval'\n",
    "save_dir = './saved/models/'"
   ]
  },
  {
   "cell_type": "markdown",
   "metadata": {},
   "source": [
    "### 하이퍼파라미터"
   ]
  },
  {
   "cell_type": "code",
   "execution_count": 3,
   "metadata": {},
   "outputs": [
    {
     "name": "stderr",
     "output_type": "stream",
     "text": [
      "/opt/conda/lib/python3.8/site-packages/albumentations/augmentations/transforms.py:688: FutureWarning: This class has been deprecated. Please use CoarseDropout\n",
      "  warnings.warn(\n"
     ]
    }
   ],
   "source": [
    "#model_name = 'efficientnet_b1'\n",
    "model_name = 'vit_tiny_r_s16_p8_384'\n",
    "learning_rate = 1e-4\n",
    "batch_size = 64\n",
    "T_max = 50\n",
    "epochs = 15\n",
    "earlystop = 5\n",
    "\n",
    "MEAN_IMAGENET = [0.485, 0.456, 0.406]\n",
    "STD_IMAGENET = [0.229, 0.224, 0.225]\n",
    "\n",
    "A_transform = {\n",
    "    'train':\n",
    "        A.Compose([\n",
    "            A.Resize(512, 512),\n",
    "            A.RandomCrop(384, 384),\n",
    "            A.HorizontalFlip(p=0.5),\n",
    "            A.Cutout(num_holes=16, max_h_size=32,max_w_size=32),\n",
    "            A.ElasticTransform(),\n",
    "            A.Normalize(mean=[0.485, 0.456, 0.406], std=[0.229, 0.224, 0.225]),\n",
    "            ToTensorV2()\n",
    "        ]),\n",
    "    'valid':\n",
    "        A.Compose([\n",
    "            A.Resize(384, 384),\n",
    "            A.Normalize(mean=[0.485, 0.456, 0.406], std=[0.229, 0.224, 0.225]),\n",
    "            ToTensorV2()\n",
    "        ]),\n",
    "    'VIT_test':\n",
    "        A.Compose([\n",
    "            A.Resize(384, 384),\n",
    "            A.Normalize(mean=[0.485, 0.456, 0.406], std=[0.229, 0.224, 0.225]),\n",
    "            ToTensorV2()\n",
    "        ]),\n",
    "    'ENN_test':\n",
    "        A.Compose([\n",
    "            A.Resize(224, 224),\n",
    "            A.Normalize(mean=[0.485, 0.456, 0.406], std=[0.229, 0.224, 0.225]),\n",
    "            ToTensorV2()\n",
    "        ])\n",
    "}"
   ]
  },
  {
   "cell_type": "code",
   "execution_count": 4,
   "metadata": {},
   "outputs": [],
   "source": [
    "class LoadCSV():\n",
    "    def __init__(self, dir):\n",
    "        self.dir = dir\n",
    "        self.img_dir =train_dir + '/images/'\n",
    "        self.origin_csv_path = train_dir + '/train.csv'\n",
    "        self.trans_csv_path = train_dir + '/trans_train.csv'\n",
    "        \n",
    "        if not os.path.exists(self.trans_csv_path):\n",
    "            self._makeCSV()\n",
    "        self.df = pd.read_csv(self.trans_csv_path)\n",
    "        #self.df = self.df[:200]\n",
    "    def _makeCSV(self):        \n",
    "        with open(self.trans_csv_path, 'w', newline='') as f:\n",
    "            writer = csv.writer(f)\n",
    "            writer.writerow([\"path\", \"label\"])\n",
    "\n",
    "            df = pd.read_csv(self.origin_csv_path)\n",
    "            for idx in range(len(df)):\n",
    "                data = df.iloc[idx]\n",
    "                img_path_base = os.path.join(os.path.join(self.img_dir, data['path']), '*')\n",
    "                for img_path in glob.glob(img_path_base):\n",
    "                    label = 0\n",
    "                    if \"incorrect\" in img_path:\n",
    "                        label+=6\n",
    "                    elif 'normal' in img_path:\n",
    "                        label+=12\n",
    "                    elif data['gender']=='female':\n",
    "                        label+=3\n",
    "                    elif data['age'] >= 30 and data['age'] < 60:\n",
    "                        label+=1\n",
    "                    elif data['age'] >= 60:\n",
    "                        label+=2\n",
    "                    writer.writerow([img_path, label])\n",
    "        f.close()\n",
    "\n",
    "class MaskDataset(Dataset):\n",
    "    def __init__(self, dataframe, transform=None):\n",
    "        super().__init__()\n",
    "        self.df = dataframe\n",
    "        self.transform = transform\n",
    "\n",
    "    def __len__(self):\n",
    "        return len(self.df)\n",
    "\n",
    "    def __getitem__(self, idx):\n",
    "        class_id = torch.tensor(self.df['label'].iloc[idx])\n",
    "        img = PIL.Image.open(self.df['path'].iloc[idx])\n",
    "        img = np.array(img.convert(\"RGB\"))\n",
    "        if self.transform:\n",
    "            img = self.transform(image=img)['image']\n",
    "        return img, class_id"
   ]
  },
  {
   "cell_type": "markdown",
   "metadata": {},
   "source": [
    "# 2. 모델 설계\n"
   ]
  },
  {
   "cell_type": "code",
   "execution_count": 5,
   "metadata": {},
   "outputs": [],
   "source": [
    "class VIT_Model(nn.Module):\n",
    "    def __init__(self, model_name, num_classes):\n",
    "        super(VIT_Model, self).__init__()\n",
    "        self.num_classes = num_classes\n",
    "        self.model = timm.create_model(model_name, pretrained=True)\n",
    "\n",
    "        n_features = self.model.head.in_features\n",
    "        self.model.head = torch.nn.Linear(in_features=n_features, out_features=self.num_classes, bias=True)\n",
    "        torch.nn.init.xavier_uniform_(self.model.head.weight)\n",
    "        stdv = 1/np.sqrt(self.num_classes)\n",
    "        self.model.head.bias.data.uniform_(-stdv, stdv)\n",
    "        \n",
    "    def forward(self, x):\n",
    "        return self.model(x)\n",
    "\n",
    "class ENN_Model(nn.Module):\n",
    "    def __init__(self, model_name, num_classes):\n",
    "        super(ENN_Model, self).__init__()\n",
    "        self.num_classes = num_classes\n",
    "        self.model = timm.create_model(model_name, pretrained=True)\n",
    "\n",
    "        n_features = self.model.classifier.in_features\n",
    "        self.model.classifier = torch.nn.Linear(in_features=n_features, out_features=num_classes, bias=True)\n",
    "        torch.nn.init.xavier_uniform_(self.model.classifier.weight)\n",
    "        stdv = 1/np.sqrt(self.num_classes)\n",
    "        self.model.classifier.bias.data.uniform_(-stdv, stdv)\n",
    "\n",
    "    def forward(self, x):\n",
    "        return self.model(x)"
   ]
  },
  {
   "cell_type": "markdown",
   "metadata": {},
   "source": [
    "# 3. 학습"
   ]
  },
  {
   "cell_type": "code",
   "execution_count": 6,
   "metadata": {},
   "outputs": [
    {
     "name": "stderr",
     "output_type": "stream",
     "text": [
      "Failed to detect the name of this notebook, you can set it manually with the WANDB_NOTEBOOK_NAME environment variable to enable code saving.\n",
      "\u001b[34m\u001b[1mwandb\u001b[0m: Currently logged in as: \u001b[33mnudago\u001b[0m (use `wandb login --relogin` to force relogin)\n"
     ]
    }
   ],
   "source": [
    "device = torch.device('cuda' if torch.cuda.is_available() else 'cpu')\n",
    "\n",
    "today = time.strftime('%Y%m%d_%H%M%S', time.localtime(time.time()))\n",
    "if not os.path.exists(save_dir + today):\n",
    "    os.makedirs(save_dir + today + '_' + model_name)\n",
    "\n",
    "import wandb\n",
    "wandb.login()\n",
    "\n",
    "import torchmetrics\n",
    "from torchmetrics.functional import f1\n",
    "calc_train_acc = torchmetrics.Accuracy()\n",
    "calc_train_f1 = torchmetrics.F1(num_classes=18)\n",
    "calc_train_loss = torchmetrics"
   ]
  },
  {
   "cell_type": "code",
   "execution_count": 7,
   "metadata": {},
   "outputs": [
    {
     "name": "stdout",
     "output_type": "stream",
     "text": [
      "FOLD 0\n"
     ]
    },
    {
     "data": {
      "text/html": [
       "\n",
       "                Tracking run with wandb version 0.12.1<br/>\n",
       "                Syncing run <strong style=\"color:#cdcd00\">magic-snowball-2</strong> to <a href=\"https://wandb.ai\" target=\"_blank\">Weights & Biases</a> <a href=\"https://docs.wandb.com/integrations/jupyter.html\" target=\"_blank\">(Documentation)</a>.<br/>\n",
       "                Project page: <a href=\"https://wandb.ai/boostcamp-level01-04/mask_kfold\" target=\"_blank\">https://wandb.ai/boostcamp-level01-04/mask_kfold</a><br/>\n",
       "                Run page: <a href=\"https://wandb.ai/boostcamp-level01-04/mask_kfold/runs/3sgm8h3p\" target=\"_blank\">https://wandb.ai/boostcamp-level01-04/mask_kfold/runs/3sgm8h3p</a><br/>\n",
       "                Run data is saved locally in <code>/opt/ml/image-classification-level1-04/wandb/run-20210901_163347-3sgm8h3p</code><br/><br/>\n",
       "            "
      ],
      "text/plain": [
       "<IPython.core.display.HTML object>"
      ]
     },
     "metadata": {},
     "output_type": "display_data"
    },
    {
     "name": "stderr",
     "output_type": "stream",
     "text": [
      "train Epoch 0 : 100%|██████████| 237/237 [03:41<00:00,  1.07batch/s, acc=tensor(1.), f1=tensor(1.), loss=0.399]\n",
      "valid Epoch 0 : 100%|██████████| 60/60 [00:59<00:00,  1.01batch/s, acc=tensor(0.7500), f1=tensor(0.7500), loss=0.134]\n",
      "train Epoch 1 : 100%|██████████| 237/237 [03:41<00:00,  1.07batch/s, acc=tensor(1.), f1=tensor(1.), loss=0.162]\n",
      "valid Epoch 1 : 100%|██████████| 60/60 [00:56<00:00,  1.07batch/s, acc=tensor(0.7500), f1=tensor(0.7500), loss=0.133]\n",
      "train Epoch 2 : 100%|██████████| 237/237 [03:37<00:00,  1.09batch/s, acc=tensor(1.), f1=tensor(1.), loss=0.13]\n",
      "valid Epoch 2 : 100%|██████████| 60/60 [01:03<00:00,  1.05s/batch, acc=tensor(0.7500), f1=tensor(0.7500), loss=0.106]\n",
      "train Epoch 3 : 100%|██████████| 237/237 [03:41<00:00,  1.07batch/s, acc=tensor(1.), f1=tensor(1.), loss=0.115]\n",
      "valid Epoch 3 : 100%|██████████| 60/60 [00:59<00:00,  1.01batch/s, acc=tensor(1.), f1=tensor(1.), loss=0.125]\n",
      "train Epoch 4 : 100%|██████████| 237/237 [03:39<00:00,  1.08batch/s, acc=tensor(0.8750), f1=tensor(0.8750), loss=0.097]\n",
      "valid Epoch 4 : 100%|██████████| 60/60 [01:02<00:00,  1.05s/batch, acc=tensor(1.), f1=tensor(1.), loss=0.191]\n",
      "train Epoch 5 : 100%|██████████| 237/237 [03:48<00:00,  1.03batch/s, acc=tensor(0.9375), f1=tensor(0.9375), loss=0.0929]\n",
      "valid Epoch 5 : 100%|██████████| 60/60 [01:00<00:00,  1.01s/batch, acc=tensor(1.), f1=tensor(1.), loss=0.0963]\n",
      "train Epoch 6 : 100%|██████████| 237/237 [03:41<00:00,  1.07batch/s, acc=tensor(1.), f1=tensor(1.), loss=0.0792]\n",
      "valid Epoch 6 : 100%|██████████| 60/60 [00:57<00:00,  1.04batch/s, acc=tensor(1.), f1=tensor(1.), loss=0.116]\n",
      "train Epoch 7 : 100%|██████████| 237/237 [03:42<00:00,  1.07batch/s, acc=tensor(1.), f1=tensor(1.), loss=0.0665]\n",
      "valid Epoch 7 : 100%|██████████| 60/60 [00:57<00:00,  1.05batch/s, acc=tensor(0.7500), f1=tensor(0.7500), loss=0.127]\n",
      "train Epoch 8 : 100%|██████████| 237/237 [03:38<00:00,  1.08batch/s, acc=tensor(1.), f1=tensor(1.), loss=0.0618]\n",
      "valid Epoch 8 : 100%|██████████| 60/60 [00:56<00:00,  1.05batch/s, acc=tensor(0.5000), f1=tensor(0.5000), loss=0.104]\n",
      "train Epoch 9 : 100%|██████████| 237/237 [03:41<00:00,  1.07batch/s, acc=tensor(0.9375), f1=tensor(0.9375), loss=0.0493]\n",
      "valid Epoch 9 : 100%|██████████| 60/60 [00:58<00:00,  1.02batch/s, acc=tensor(1.), f1=tensor(1.), loss=0.112]\n",
      "train Epoch 10 : 100%|██████████| 237/237 [03:41<00:00,  1.07batch/s, acc=tensor(1.), f1=tensor(1.), loss=0.043]\n",
      "valid Epoch 10 : 100%|██████████| 60/60 [00:59<00:00,  1.00batch/s, acc=tensor(1.), f1=tensor(1.), loss=0.141]\n"
     ]
    },
    {
     "name": "stdout",
     "output_type": "stream",
     "text": [
      "FOLD 1\n"
     ]
    },
    {
     "data": {
      "text/html": [
       "Finishing last run (ID:3sgm8h3p) before initializing another..."
      ],
      "text/plain": [
       "<IPython.core.display.HTML object>"
      ]
     },
     "metadata": {},
     "output_type": "display_data"
    },
    {
     "data": {
      "text/html": [
       "<br/>Waiting for W&B process to finish, PID 15315<br/>Program ended successfully."
      ],
      "text/plain": [
       "<IPython.core.display.HTML object>"
      ]
     },
     "metadata": {},
     "output_type": "display_data"
    },
    {
     "data": {
      "application/vnd.jupyter.widget-view+json": {
       "model_id": "70460d815ee04d43add4fb8bcdd86d5a",
       "version_major": 2,
       "version_minor": 0
      },
      "text/plain": [
       "VBox(children=(Label(value=' 0.00MB of 0.00MB uploaded (0.00MB deduped)\\r'), FloatProgress(value=1.0, max=1.0)…"
      ]
     },
     "metadata": {},
     "output_type": "display_data"
    },
    {
     "data": {
      "text/html": [
       "Find user logs for this run at: <code>/opt/ml/image-classification-level1-04/wandb/run-20210901_163347-3sgm8h3p/logs/debug.log</code>"
      ],
      "text/plain": [
       "<IPython.core.display.HTML object>"
      ]
     },
     "metadata": {},
     "output_type": "display_data"
    },
    {
     "data": {
      "text/html": [
       "Find internal logs for this run at: <code>/opt/ml/image-classification-level1-04/wandb/run-20210901_163347-3sgm8h3p/logs/debug-internal.log</code>"
      ],
      "text/plain": [
       "<IPython.core.display.HTML object>"
      ]
     },
     "metadata": {},
     "output_type": "display_data"
    },
    {
     "data": {
      "text/html": [
       "<h3>Run summary:</h3><br/><style>\n",
       "    table.wandb td:nth-child(1) { padding: 0 10px; text-align: right }\n",
       "    </style><table class=\"wandb\">\n",
       "<tr><td>train_loss</td><td>0.04919</td></tr><tr><td>train_acc</td><td>1.0</td></tr><tr><td>_runtime</td><td>3094</td></tr><tr><td>_timestamp</td><td>1630517121</td></tr><tr><td>_step</td><td>2606</td></tr><tr><td>valid_loss</td><td>0.09441</td></tr><tr><td>valid_acc</td><td>1.0</td></tr></table>"
      ],
      "text/plain": [
       "<IPython.core.display.HTML object>"
      ]
     },
     "metadata": {},
     "output_type": "display_data"
    },
    {
     "data": {
      "text/html": [
       "<h3>Run history:</h3><br/><style>\n",
       "    table.wandb td:nth-child(1) { padding: 0 10px; text-align: right }\n",
       "    </style><table class=\"wandb\">\n",
       "<tr><td>train_loss</td><td>█▆█▇▄▆▃▃▃▆▄▆▄▂▂▂▃▄▂▂▃▃▂▂▂▂▂▂▂▁▁▁▂▁▂▁▁▁▁▁</td></tr><tr><td>train_acc</td><td>▁▄▃▃▄▅▇▅▇▅▆▄▅▇▇▇▇▇▇▆▇▇▇▇▇▇▇▇▇▇██▇▇▆██▇█▇</td></tr><tr><td>_runtime</td><td>▁▁▁▁▂▂▂▂▂▃▃▃▃▃▃▄▄▄▄▄▅▅▅▅▅▆▆▆▆▆▆▇▇▇▇▇▇███</td></tr><tr><td>_timestamp</td><td>▁▁▁▁▂▂▂▂▂▃▃▃▃▃▃▄▄▄▄▄▅▅▅▅▅▆▆▆▆▆▆▇▇▇▇▇▇███</td></tr><tr><td>_step</td><td>▁▁▁▂▂▂▂▂▂▃▃▃▃▃▃▄▄▄▄▄▅▅▅▅▅▅▆▆▆▆▆▇▇▇▇▇▇███</td></tr><tr><td>valid_loss</td><td>▂▂▃▁▁▁▁▂█▁▁</td></tr><tr><td>valid_acc</td><td>▅▅▅████▅▁██</td></tr></table><br/>"
      ],
      "text/plain": [
       "<IPython.core.display.HTML object>"
      ]
     },
     "metadata": {},
     "output_type": "display_data"
    },
    {
     "data": {
      "text/html": [
       "Synced 6 W&B file(s), 0 media file(s), 0 artifact file(s) and 0 other file(s)"
      ],
      "text/plain": [
       "<IPython.core.display.HTML object>"
      ]
     },
     "metadata": {},
     "output_type": "display_data"
    },
    {
     "data": {
      "text/html": [
       "\n",
       "                    <br/>Synced <strong style=\"color:#cdcd00\">magic-snowball-2</strong>: <a href=\"https://wandb.ai/boostcamp-level01-04/mask_kfold/runs/3sgm8h3p\" target=\"_blank\">https://wandb.ai/boostcamp-level01-04/mask_kfold/runs/3sgm8h3p</a><br/>\n",
       "                "
      ],
      "text/plain": [
       "<IPython.core.display.HTML object>"
      ]
     },
     "metadata": {},
     "output_type": "display_data"
    },
    {
     "data": {
      "text/html": [
       "...Successfully finished last run (ID:3sgm8h3p). Initializing new run:<br/><br/>"
      ],
      "text/plain": [
       "<IPython.core.display.HTML object>"
      ]
     },
     "metadata": {},
     "output_type": "display_data"
    },
    {
     "data": {
      "text/html": [
       "\n",
       "                Tracking run with wandb version 0.12.1<br/>\n",
       "                Syncing run <strong style=\"color:#cdcd00\">avid-sponge-4</strong> to <a href=\"https://wandb.ai\" target=\"_blank\">Weights & Biases</a> <a href=\"https://docs.wandb.com/integrations/jupyter.html\" target=\"_blank\">(Documentation)</a>.<br/>\n",
       "                Project page: <a href=\"https://wandb.ai/boostcamp-level01-04/mask_kfold\" target=\"_blank\">https://wandb.ai/boostcamp-level01-04/mask_kfold</a><br/>\n",
       "                Run page: <a href=\"https://wandb.ai/boostcamp-level01-04/mask_kfold/runs/6opavukc\" target=\"_blank\">https://wandb.ai/boostcamp-level01-04/mask_kfold/runs/6opavukc</a><br/>\n",
       "                Run data is saved locally in <code>/opt/ml/image-classification-level1-04/wandb/run-20210901_172521-6opavukc</code><br/><br/>\n",
       "            "
      ],
      "text/plain": [
       "<IPython.core.display.HTML object>"
      ]
     },
     "metadata": {},
     "output_type": "display_data"
    },
    {
     "name": "stderr",
     "output_type": "stream",
     "text": [
      "train Epoch 0 : 100%|██████████| 237/237 [03:38<00:00,  1.08batch/s, acc=tensor(0.6875), f1=tensor(0.6875), loss=0.433]\n",
      "valid Epoch 0 : 100%|██████████| 60/60 [00:58<00:00,  1.03batch/s, acc=tensor(1.), f1=tensor(1.), loss=0.0576]\n",
      "train Epoch 1 : 100%|██████████| 237/237 [03:38<00:00,  1.09batch/s, acc=tensor(1.), f1=tensor(1.), loss=0.162]\n",
      "valid Epoch 1 : 100%|██████████| 60/60 [00:59<00:00,  1.01batch/s, acc=tensor(0.7500), f1=tensor(0.7500), loss=0.0532]\n",
      "train Epoch 2 : 100%|██████████| 237/237 [03:40<00:00,  1.08batch/s, acc=tensor(0.8750), f1=tensor(0.8750), loss=0.139]\n",
      "valid Epoch 2 : 100%|██████████| 60/60 [00:58<00:00,  1.02batch/s, acc=tensor(0.7500), f1=tensor(0.7500), loss=0.0862]\n",
      "train Epoch 3 : 100%|██████████| 237/237 [03:45<00:00,  1.05batch/s, acc=tensor(1.), f1=tensor(1.), loss=0.12]\n",
      "valid Epoch 3 : 100%|██████████| 60/60 [01:01<00:00,  1.03s/batch, acc=tensor(1.), f1=tensor(1.), loss=0.0558]\n",
      "train Epoch 4 : 100%|██████████| 237/237 [03:39<00:00,  1.08batch/s, acc=tensor(1.), f1=tensor(1.), loss=0.098]\n",
      "valid Epoch 4 : 100%|██████████| 60/60 [00:59<00:00,  1.02batch/s, acc=tensor(1.), f1=tensor(1.), loss=0.0899]\n",
      "train Epoch 5 : 100%|██████████| 237/237 [03:37<00:00,  1.09batch/s, acc=tensor(0.9375), f1=tensor(0.9375), loss=0.0851]\n",
      "valid Epoch 5 : 100%|██████████| 60/60 [00:57<00:00,  1.04batch/s, acc=tensor(1.), f1=tensor(1.), loss=0.0673]\n",
      "train Epoch 6 : 100%|██████████| 237/237 [03:41<00:00,  1.07batch/s, acc=tensor(0.8750), f1=tensor(0.8750), loss=0.0827]\n",
      "valid Epoch 6 : 100%|██████████| 60/60 [01:00<00:00,  1.01s/batch, acc=tensor(1.), f1=tensor(1.), loss=0.0637]\n"
     ]
    },
    {
     "name": "stdout",
     "output_type": "stream",
     "text": [
      "FOLD 2\n"
     ]
    },
    {
     "data": {
      "text/html": [
       "Finishing last run (ID:6opavukc) before initializing another..."
      ],
      "text/plain": [
       "<IPython.core.display.HTML object>"
      ]
     },
     "metadata": {},
     "output_type": "display_data"
    },
    {
     "data": {
      "text/html": [
       "<br/>Waiting for W&B process to finish, PID 6310<br/>Program ended successfully."
      ],
      "text/plain": [
       "<IPython.core.display.HTML object>"
      ]
     },
     "metadata": {},
     "output_type": "display_data"
    },
    {
     "data": {
      "application/vnd.jupyter.widget-view+json": {
       "model_id": "787b8817c27f4e7781fca6847720b542",
       "version_major": 2,
       "version_minor": 0
      },
      "text/plain": [
       "VBox(children=(Label(value=' 0.00MB of 0.00MB uploaded (0.00MB deduped)\\r'), FloatProgress(value=1.0, max=1.0)…"
      ]
     },
     "metadata": {},
     "output_type": "display_data"
    },
    {
     "data": {
      "text/html": [
       "Find user logs for this run at: <code>/opt/ml/image-classification-level1-04/wandb/run-20210901_172521-6opavukc/logs/debug.log</code>"
      ],
      "text/plain": [
       "<IPython.core.display.HTML object>"
      ]
     },
     "metadata": {},
     "output_type": "display_data"
    },
    {
     "data": {
      "text/html": [
       "Find internal logs for this run at: <code>/opt/ml/image-classification-level1-04/wandb/run-20210901_172521-6opavukc/logs/debug-internal.log</code>"
      ],
      "text/plain": [
       "<IPython.core.display.HTML object>"
      ]
     },
     "metadata": {},
     "output_type": "display_data"
    },
    {
     "data": {
      "text/html": [
       "<h3>Run summary:</h3><br/><style>\n",
       "    table.wandb td:nth-child(1) { padding: 0 10px; text-align: right }\n",
       "    </style><table class=\"wandb\">\n",
       "<tr><td>train_loss</td><td>0.15051</td></tr><tr><td>train_acc</td><td>0.875</td></tr><tr><td>_runtime</td><td>1964</td></tr><tr><td>_timestamp</td><td>1630519091</td></tr><tr><td>_step</td><td>1658</td></tr><tr><td>valid_loss</td><td>0.11211</td></tr><tr><td>valid_acc</td><td>1.0</td></tr></table>"
      ],
      "text/plain": [
       "<IPython.core.display.HTML object>"
      ]
     },
     "metadata": {},
     "output_type": "display_data"
    },
    {
     "data": {
      "text/html": [
       "<h3>Run history:</h3><br/><style>\n",
       "    table.wandb td:nth-child(1) { padding: 0 10px; text-align: right }\n",
       "    </style><table class=\"wandb\">\n",
       "<tr><td>train_loss</td><td>█▆▅▃▃▃▃▃▃▃▁▃▂▂▂▂▁▁▂▃▁▁▃▃▂▂▂▂▂▃▂▂▁▁▅▂▁▂▁▃</td></tr><tr><td>train_acc</td><td>▁▄▃▆▆▅▇▆▇▅▇▅▇▇▇▇█▇▇▇██▇▇▇▇▅▇▇▇▇▇▇█▆▇█▇█▅</td></tr><tr><td>_runtime</td><td>▁▁▁▁▂▂▂▂▂▂▃▃▃▃▃▄▄▄▄▄▅▅▅▅▅▆▆▆▆▆▆▇▇▇▇▇████</td></tr><tr><td>_timestamp</td><td>▁▁▁▁▂▂▂▂▂▂▃▃▃▃▃▄▄▄▄▄▅▅▅▅▅▆▆▆▆▆▆▇▇▇▇▇████</td></tr><tr><td>_step</td><td>▁▁▁▁▂▂▂▂▂▃▃▃▃▃▃▄▄▄▄▄▅▅▅▅▅▅▆▆▆▆▆▇▇▇▇▇▇███</td></tr><tr><td>valid_loss</td><td>▂█▅▃▁▁▃</td></tr><tr><td>valid_acc</td><td>█▁▁████</td></tr></table><br/>"
      ],
      "text/plain": [
       "<IPython.core.display.HTML object>"
      ]
     },
     "metadata": {},
     "output_type": "display_data"
    },
    {
     "data": {
      "text/html": [
       "Synced 6 W&B file(s), 0 media file(s), 0 artifact file(s) and 0 other file(s)"
      ],
      "text/plain": [
       "<IPython.core.display.HTML object>"
      ]
     },
     "metadata": {},
     "output_type": "display_data"
    },
    {
     "data": {
      "text/html": [
       "\n",
       "                    <br/>Synced <strong style=\"color:#cdcd00\">avid-sponge-4</strong>: <a href=\"https://wandb.ai/boostcamp-level01-04/mask_kfold/runs/6opavukc\" target=\"_blank\">https://wandb.ai/boostcamp-level01-04/mask_kfold/runs/6opavukc</a><br/>\n",
       "                "
      ],
      "text/plain": [
       "<IPython.core.display.HTML object>"
      ]
     },
     "metadata": {},
     "output_type": "display_data"
    },
    {
     "data": {
      "text/html": [
       "...Successfully finished last run (ID:6opavukc). Initializing new run:<br/><br/>"
      ],
      "text/plain": [
       "<IPython.core.display.HTML object>"
      ]
     },
     "metadata": {},
     "output_type": "display_data"
    },
    {
     "data": {
      "text/html": [
       "\n",
       "                Tracking run with wandb version 0.12.1<br/>\n",
       "                Syncing run <strong style=\"color:#cdcd00\">dark-universe-7</strong> to <a href=\"https://wandb.ai\" target=\"_blank\">Weights & Biases</a> <a href=\"https://docs.wandb.com/integrations/jupyter.html\" target=\"_blank\">(Documentation)</a>.<br/>\n",
       "                Project page: <a href=\"https://wandb.ai/boostcamp-level01-04/mask_kfold\" target=\"_blank\">https://wandb.ai/boostcamp-level01-04/mask_kfold</a><br/>\n",
       "                Run page: <a href=\"https://wandb.ai/boostcamp-level01-04/mask_kfold/runs/2g1fav5d\" target=\"_blank\">https://wandb.ai/boostcamp-level01-04/mask_kfold/runs/2g1fav5d</a><br/>\n",
       "                Run data is saved locally in <code>/opt/ml/image-classification-level1-04/wandb/run-20210901_175811-2g1fav5d</code><br/><br/>\n",
       "            "
      ],
      "text/plain": [
       "<IPython.core.display.HTML object>"
      ]
     },
     "metadata": {},
     "output_type": "display_data"
    },
    {
     "name": "stderr",
     "output_type": "stream",
     "text": [
      "train Epoch 0 : 100%|██████████| 237/237 [03:42<00:00,  1.06batch/s, acc=tensor(0.8750), f1=tensor(0.8750), loss=0.375]\n",
      "valid Epoch 0 : 100%|██████████| 60/60 [00:56<00:00,  1.07batch/s, acc=tensor(0.2500), f1=tensor(0.2500), loss=0.087]\n",
      "train Epoch 1 : 100%|██████████| 237/237 [03:42<00:00,  1.07batch/s, acc=tensor(0.8750), f1=tensor(0.8750), loss=0.169]\n",
      "valid Epoch 1 : 100%|██████████| 60/60 [01:00<00:00,  1.01s/batch, acc=tensor(1.), f1=tensor(1.), loss=0.0388]\n",
      "train Epoch 2 : 100%|██████████| 237/237 [03:38<00:00,  1.08batch/s, acc=tensor(0.9375), f1=tensor(0.9375), loss=0.142]\n",
      "valid Epoch 2 : 100%|██████████| 60/60 [01:02<00:00,  1.04s/batch, acc=tensor(0.7500), f1=tensor(0.7500), loss=0.0407]\n",
      "train Epoch 3 : 100%|██████████| 237/237 [03:49<00:00,  1.03batch/s, acc=tensor(1.), f1=tensor(1.), loss=0.11]\n",
      "valid Epoch 3 :  40%|████      | 24/60 [00:24<00:21,  1.65batch/s, acc=tensor(0.8750), f1=tensor(0.8750), loss=0.0198]"
     ]
    }
   ],
   "source": [
    "from sklearn.model_selection import StratifiedKFold\n",
    "mask_csv = LoadCSV(train_dir)\n",
    "kfold = StratifiedKFold(n_splits=5, shuffle=False)\n",
    "\n",
    "def make_model():\n",
    "    return VIT_Model(model_name, 18).to(device) \n",
    "\n",
    "for fold, (train_idx, valid_idx) in enumerate(kfold.split(mask_csv.df['path'], mask_csv.df['label'])):\n",
    "    print(f'FOLD {fold}')\n",
    "\n",
    "    mask_train = MaskDataset(mask_csv.df,  transform=A_transform['train'])\n",
    "    train_subsampler = torch.utils.data.SubsetRandomSampler(train_idx)\n",
    "    valid_subsampler = torch.utils.data.SubsetRandomSampler(valid_idx)\n",
    "\n",
    "    train_loader = DataLoader(mask_train, batch_size=batch_size, sampler=train_subsampler, drop_last=False, num_workers=8, pin_memory=True)\n",
    "    valid_loader = DataLoader(mask_train, batch_size=batch_size, sampler=valid_subsampler, drop_last=False, num_workers=8, pin_memory=True)\n",
    "    dataloaders = {'train': train_loader, 'valid':valid_loader}\n",
    "\n",
    "#     model = VIT_Model(model_name, 18).to(device)\n",
    "    model = make_model()\n",
    "    criterion = nn.CrossEntropyLoss()\n",
    "    optimizer = torch.optim.Adam(model.parameters(), learning_rate)\n",
    "    lr_scheduler = torch.optim.lr_scheduler.CosineAnnealingLR(optimizer, T_max=50, eta_min=0)\n",
    "    \n",
    "    earlystop_value = 0\n",
    "    best_acc = 0\n",
    "    best_loss = 999999999\n",
    "    best_model = copy.deepcopy(model.state_dict())\n",
    "\n",
    "    wandb.init(project=\"mask_kfold\", entity='boostcamp-level01-04', config={\"learning_rate\":learning_rate, \"batch_size\":batch_size, \"epochs\":epochs})\n",
    "    now = time.strftime('%Y%m%d_%H%M%S', time.localtime(time.time()))\n",
    "    wandb.watch(model, criterion, log='all')\n",
    "    wandb.run.name = f'{model_name}_kfold{fold}_{now}'\n",
    "    example_ct = 0\n",
    "    for epoch in range(epochs):\n",
    "        if earlystop_value >= earlystop:\n",
    "            break\n",
    "        train_loss, valid_loss, train_acc_list, valid_acc_list = 0, 0, [],[]\n",
    "\n",
    "        for phase in ['train', 'valid']:\n",
    "            if phase == 'train':\n",
    "                model.train()\n",
    "            else:\n",
    "                model.eval()\n",
    "\n",
    "            running_loss = 0.0\n",
    "            running_corrects = 0\n",
    "            with tqdm(dataloaders[phase], total=dataloaders[phase].__len__(), unit=\"batch\") as train_bar:\n",
    "                for batch_idx, (inputs, labels) in enumerate(train_bar):\n",
    "                    if phase=='train':\n",
    "                        example_ct = epoch * len(dataloaders[phase]) + batch_idx\n",
    "                    train_bar.set_description(f\"{phase} Epoch {epoch} \")\n",
    "                    inputs, labels = inputs.to(device), labels.to(device)\n",
    "\n",
    "                    optimizer.zero_grad()\n",
    "                    outputs = model(inputs)\n",
    "                    loss = criterion(outputs, labels)\n",
    "                    \n",
    "                    if phase == 'train':\n",
    "                        loss.backward()\n",
    "                        optimizer.step()\n",
    "\n",
    "                    outputs = outputs.cpu().detach()#.numpy()\n",
    "                    labels = labels.cpu().detach()#.numpy()\n",
    "\n",
    "                    running_loss += loss.item() * inputs.size(0)\n",
    "                    epoch_loss = running_loss / len(dataloaders[phase].dataset)\n",
    "                    train_acc = calc_train_acc(outputs.argmax(1), labels)\n",
    "                    train_f1 = calc_train_f1(outputs.argmax(1), labels)\n",
    "                    \n",
    "                    train_bar.set_postfix(loss=epoch_loss, acc=train_acc, f1=train_f1)\n",
    "                    if phase == 'train':\n",
    "                        wandb.log({'train_loss':loss.item(),  'train_acc':train_acc}, step=example_ct)\n",
    "\n",
    "            lr_scheduler.step()\n",
    "            if phase=='valid':\n",
    "                wandb.log({'valid_loss':epoch_loss,  'valid_acc':train_acc}, step=example_ct)\n",
    "                if epoch_loss < best_loss:\n",
    "                    best_loss = epoch_loss\n",
    "                    best_model_wts = copy.deepcopy(model.state_dict())\n",
    "                    torch.save(best_model_wts, f'{save_dir}{today}_{model_name}/baseline_{model_name}_lr{learning_rate}_batch{batch_size}_kfold{fold}_epoch{epoch}_valid_loss_{epoch_loss:.5f}.pt')\n",
    "                    earlystop_value = 0\n",
    "                else:\n",
    "                    earlystop_value += 1\n"
   ]
  },
  {
   "cell_type": "markdown",
   "metadata": {},
   "source": [
    "# 4. 추론"
   ]
  },
  {
   "cell_type": "code",
   "execution_count": null,
   "metadata": {},
   "outputs": [],
   "source": [
    "class TestDataset(Dataset):\n",
    "    def __init__(self, img_paths, transform):\n",
    "        self.img_paths = img_paths\n",
    "        self.transform = transform\n",
    "\n",
    "    def __getitem__(self, index):\n",
    "        image = PIL.Image.open(self.img_paths[index])\n",
    "        image = np.array(image.convert(\"RGB\"))\n",
    "        if self.transform:\n",
    "            image = self.transform(image=image)\n",
    "            image = image['image']\n",
    "        return image\n",
    "\n",
    "    def __len__(self):\n",
    "        return len(self.img_paths)"
   ]
  },
  {
   "cell_type": "code",
   "execution_count": null,
   "metadata": {},
   "outputs": [
    {
     "data": {
      "text/plain": [
       "<All keys matched successfully>"
      ]
     },
     "execution_count": 17,
     "metadata": {},
     "output_type": "execute_result"
    }
   ],
   "source": [
    "model.load_state_dict(torch.load('/opt/ml/image-classification-level1-04/saved/models/PretrainModelTimm_ViT_base/0901_064031/checkpoint-epoch14.pth')['state_dict'])"
   ]
  },
  {
   "cell_type": "code",
   "execution_count": null,
   "metadata": {},
   "outputs": [
    {
     "name": "stderr",
     "output_type": "stream",
     "text": [
      "100%|██████████| 788/788 [02:39<00:00,  4.95batch/s]\n"
     ]
    },
    {
     "name": "stdout",
     "output_type": "stream",
     "text": [
      "test inference is done!\n"
     ]
    }
   ],
   "source": [
    "submission = pd.read_csv(os.path.join(test_dir, 'info.csv'))\n",
    "image_dir = os.path.join(test_dir, 'new_images')\n",
    "\n",
    "image_paths = [os.path.join(image_dir, img_id) for img_id in submission.ImageID]\n",
    "dataset = TestDataset(image_paths, A_transform['VIT_test'])\n",
    "test_loader = DataLoader(dataset, batch_size=batch_size, shuffle=False, num_workers=8)\n",
    "\n",
    "model.eval()\n",
    "all_predictions = []\n",
    "with tqdm(test_loader, total=test_loader.__len__(), unit=\"batch\") as test_bar:\n",
    "    for images in test_bar:\n",
    "        with torch.no_grad():\n",
    "            images = images.to(device)\n",
    "            pred = model(images)\n",
    "            pred = pred.argmax(dim=-1)\n",
    "            all_predictions.extend(pred.cpu().numpy())\n",
    "    \n",
    "submission['ans'] = all_predictions\n",
    "submission.to_csv(os.path.join(test_dir, 'submission_vit_0901_064031_14.csv'), index=False)\n",
    "print('test inference is done!')"
   ]
  },
  {
   "cell_type": "markdown",
   "metadata": {},
   "source": [
    "# 5. 제출"
   ]
  },
  {
   "cell_type": "markdown",
   "metadata": {},
   "source": [
    "## 5.1 K-Fold 제출"
   ]
  },
  {
   "cell_type": "code",
   "execution_count": null,
   "metadata": {},
   "outputs": [],
   "source": [
    "import numpy as np\n",
    "import pandas as pd\n",
    "import torch.nn.functional as F\n",
    "from glob import glob \n",
    "\n",
    "def kfold_model(folder_path):\n",
    "    # last checkpoint\n",
    "    k_fold_paths = {}\n",
    "    for path in sorted(glob.glob(os.path.join(folder_path, '*'))):\n",
    "        fold_number = path.split('kfold')[-1][0]\n",
    "        k_fold_paths[fold_number] = path\n",
    "    return k_fold_paths\n",
    "\n",
    "def make_model(model_name='efficientnet_b3', num_classes=18):\n",
    "    return ENN_Model(model_name, num_classes).to(device)\n",
    "\n",
    "\n",
    "submission = pd.read_csv(os.path.join(test_dir, 'info.csv'))\n",
    "image_dir = os.path.join(test_dir, 'images')\n",
    "image_paths = [os.path.join(image_dir, img_id) for img_id in submission.ImageID]\n",
    "ratio = 1/5\n",
    "\n",
    "# Submit dataset\n",
    "dataset = TestDataset(image_paths, A_transform['ENN_test']) # \n",
    "test_loader = DataLoader(dataset, batch_size=batch_size, shuffle=False)\n",
    "n_last_samples = len(test_loader.dataset) - (len(test_loader) - 1) * batch_size\n",
    "\n",
    "k_fold_paths = kfold_model('/opt/ml/image-classification-level1-04/saved/models/20210901_154638')\n",
    "\n",
    "predictions_list = []\n",
    "for n_fold, path in k_fold_paths.items():\n",
    "    prediction_array=np.zeros((12600,18))\n",
    "    idx=0\n",
    "    model_n = make_model()\n",
    "    model_n.load_state_dict(torch.load(path))\n",
    "\n",
    "    prediction_array=np.zeros((12600,18))\n",
    "    idx=0\n",
    "    with tqdm(test_loader, total=test_loader.__len__(), unit=\"batch\") as test_bar:\n",
    "        for images in test_bar:            \n",
    "            with torch.no_grad():\n",
    "                images = images.to(device)\n",
    "                pred = model(images)\n",
    "                pred=F.softmax(pred,dim=-1)\n",
    "                #print(pred.sum(axis=1))\n",
    "                pred=pred*ratio\n",
    "                #pred = pred.argmax(dim=-1)\n",
    "                #print(pred.sum(axis=1))\n",
    "                pred = pred.tolist()\n",
    "                batch_idx = batch_size * idx\n",
    "               \n",
    "                if (idx+1) == len(test_loader):\n",
    "                    prediction_array[batch_idx:batch_idx + n_last_samples,:] = pred\n",
    "                else :\n",
    "                    prediction_array[batch_idx:batch_idx + batch_size, :] = pred\n",
    "                idx+=1\n",
    "    predictions_list.append(prediction_array[..., np.newaxis])\n",
    "        \n",
    "#print(predictions_list[0].sum(axis=-1))\n",
    "predictions_array = np.concatenate(predictions_list, axis = 2)\n",
    "print(predictions_array.shape)\n",
    "predictions_mean = predictions_array.sum(axis = 2)\n",
    "print(predictions_mean.shape)\n",
    "\n",
    "submission['ans'] = predictions_mean\n",
    "submission.to_csv(os.path.join(test_dir, 'submission_kfold.csv'), index=False)\n",
    "print('test inference is done!')"
   ]
  },
  {
   "cell_type": "markdown",
   "metadata": {},
   "source": [
    "## 5.2 Soft Voting"
   ]
  },
  {
   "cell_type": "code",
   "execution_count": null,
   "metadata": {},
   "outputs": [],
   "source": [
    "import numpy as np\n",
    "import pandas as pd\n",
    "import torch.nn.functional as F\n",
    "\n",
    "model_num1 = VIT_Model('vit_base_patch16_384', 18).to(device)\n",
    "model_num1.load_state_dict(torch.load('/opt/ml/image-classification-level1-04/saved/models/PretrainModelTimm_ViT_base/0901_064031/checkpoint-epoch8.pth')['state_dict'])\n",
    "model_num2 = VIT_Model(\"vit_base_patch16_384\", 18).to(device)\n",
    "model_num2.load_state_dict(torch.load('/opt/ml/image-classification-level1-04/saved/models/PretrainModelTimm_ViT_base/0901_064031/checkpoint-epoch13.pth')['state_dict'])\n",
    "model_num3 = ENN_Model(\"vit_base_patch16_384\", 18).to(device)\n",
    "model_num3.load_state_dict(torch.load('/opt/ml/image-classification-level1-04/saved/models/PretrainModelTimm_ViT_base/0901_064031/checkpoint-epoch14.pth')['state_dict'])\n",
    "\n",
    "submission = pd.read_csv(os.path.join(test_dir, 'info.csv'))\n",
    "image_dir = os.path.join(test_dir, 'images')\n",
    "image_paths = [os.path.join(image_dir, img_id) for img_id in submission.ImageID]\n",
    "\n",
    "best_models=[model_num1,model_num2,model_num3] \n",
    "test_idx=['VIT_test','VIT_test','VIT_test']\n",
    "ratio=[0.3,0.4,0.3]\n",
    "\n",
    "predictions_list = []\n",
    "for i,model in enumerate(best_models):\n",
    "    dataset = TestDataset(image_paths, A_transform[test_idx[i]])\n",
    "    test_loader = DataLoader(dataset, batch_size=batch_size, shuffle=False, num_workers=8)\n",
    "    prediction_array=np.zeros((12600,18))\n",
    "    idx=0\n",
    "    with tqdm(test_loader, total=test_loader.__len__(), unit=\"batch\") as test_bar:\n",
    "        for images in test_bar:            \n",
    "            with torch.no_grad():\n",
    "                images = images.to(device)\n",
    "                pred = model(images)\n",
    "                pred=F.softmax(pred,dim=-1)\n",
    "                #print(pred.sum(axis=1))\n",
    "                pred=pred*ratio[i]\n",
    "                #pred = pred.argmax(dim=-1)\n",
    "                #print(pred.sum(axis=1))\n",
    "                pred = pred.tolist()\n",
    "                batch_idx = batch_size * idx\n",
    "               \n",
    "                if (idx+1) == len(test_loader):\n",
    "                    prediction_array[batch_idx:batch_idx + 8,:] = pred\n",
    "                else :\n",
    "                    prediction_array[batch_idx:batch_idx + 16, :] = pred\n",
    "                idx+=1\n",
    "    predictions_list.append(prediction_array[..., np.newaxis])\n",
    "        \n",
    "#print(predictions_list[0].sum(axis=-1))\n",
    "predictions_array = np.concatenate(predictions_list, axis = 2)\n",
    "print(predictions_array.shape)\n",
    "predictions_mean = predictions_array.sum(axis = 2)\n",
    "predictions = np.argmax(predictions_mean, axis = 1)\n",
    "print(predictions_mean.shape)\n",
    "\n",
    "submission['ans'] = predictions\n",
    "submission.to_csv(os.path.join(test_dir, 'submission_ensemble.csv'), index=False)\n",
    "print('test inference is done!')"
   ]
  },
  {
   "cell_type": "code",
   "execution_count": null,
   "metadata": {},
   "outputs": [
    {
     "name": "stdout",
     "output_type": "stream",
     "text": [
      "0.9275396825396826\n"
     ]
    }
   ],
   "source": [
    "#df_submit1 = pd.DataFrame(predictions_mean,columns=['ans'])\n",
    "df_submit3 = pd.read_csv('/opt/ml/input/data/eval/submission_vit_0901_064031_3.csv')\n",
    "df_submit6 = pd.read_csv('/opt/ml/input/data/eval/submission_vit_0901_064031_6.csv')\n",
    "df_submit8 = pd.read_csv('/opt/ml/input/data/eval/submission_vit_0901_064031_8.csv')\n",
    "df_submit11 = pd.read_csv('/opt/ml/input/data/eval/submission_vit_0901_064031_11.csv')\n",
    "df_submit12 = pd.read_csv('/opt/ml/input/data/eval/submission_vit_0901_064031_12.csv')\n",
    "df_submit13 = pd.read_csv('/opt/ml/input/data/eval/submission_vit_0901_064031_13.csv')\n",
    "df_submit14 = pd.read_csv('/opt/ml/input/data/eval/submission_vit_0901_064031_14.csv')\n",
    "df_submit = pd.read_csv('/opt/ml/input/data/eval/submission_ml_image-classification-level1-04_saved_models_PretrainModelTimm_ViT_large_0826_155755_checkpoint-epoch9.pth.csv')\n",
    "print((df_submit12.ans == df_submit14.ans).mean())"
   ]
  },
  {
   "cell_type": "markdown",
   "metadata": {},
   "source": [
    "## 5.3 Hard Voting"
   ]
  },
  {
   "cell_type": "code",
   "execution_count": null,
   "metadata": {},
   "outputs": [],
   "source": [
    "df_submit6 = pd.read_csv('/opt/ml/input/data/eval/submission_vit_0901_064031_6.csv')\n",
    "df_submit8 = pd.read_csv('/opt/ml/input/data/eval/submission_vit_0901_064031_12.csv')\n",
    "df_submit13 = pd.read_csv('/opt/ml/input/data/eval/submission_vit_0901_064031_13.csv')\n",
    "df = pd.DataFrame([df_submit8['ans'], df_submit13['ans'], df_submit14['ans']])\n",
    "df"
   ]
  },
  {
   "cell_type": "code",
   "execution_count": null,
   "metadata": {},
   "outputs": [],
   "source": []
  }
 ],
 "metadata": {
  "interpreter": {
   "hash": "98b0a9b7b4eaaa670588a142fd0a9b87eaafe866f1db4228be72b4211d12040f"
  },
  "kernelspec": {
   "display_name": "Python 3 (ipykernel)",
   "language": "python",
   "name": "python3"
  },
  "language_info": {
   "codemirror_mode": {
    "name": "ipython",
    "version": 3
   },
   "file_extension": ".py",
   "mimetype": "text/x-python",
   "name": "python",
   "nbconvert_exporter": "python",
   "pygments_lexer": "ipython3",
   "version": "3.8.5"
  }
 },
 "nbformat": 4,
 "nbformat_minor": 4
}
